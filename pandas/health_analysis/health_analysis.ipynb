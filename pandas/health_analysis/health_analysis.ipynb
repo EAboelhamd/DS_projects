{
 "cells": [
  {
   "cell_type": "code",
   "execution_count": 152,
   "metadata": {},
   "outputs": [],
   "source": [
    "import pandas as pd\n",
    "import matplotlib.pyplot as plt\n",
    "%matplotlib inline"
   ]
  },
  {
   "cell_type": "code",
   "execution_count": 148,
   "metadata": {},
   "outputs": [],
   "source": [
    "benefits = pd.read_csv('./data/BenefitsCostSharing.csv',parse_dates=['BusinessYear'])"
   ]
  },
  {
   "cell_type": "code",
   "execution_count": 49,
   "metadata": {},
   "outputs": [],
   "source": [
    "#benefits.info()"
   ]
  },
  {
   "cell_type": "code",
   "execution_count": 149,
   "metadata": {},
   "outputs": [
    {
     "data": {
      "text/html": [
       "<div>\n",
       "<style scoped>\n",
       "    .dataframe tbody tr th:only-of-type {\n",
       "        vertical-align: middle;\n",
       "    }\n",
       "\n",
       "    .dataframe tbody tr th {\n",
       "        vertical-align: top;\n",
       "    }\n",
       "\n",
       "    .dataframe thead th {\n",
       "        text-align: right;\n",
       "    }\n",
       "</style>\n",
       "<table border=\"1\" class=\"dataframe\">\n",
       "  <thead>\n",
       "    <tr style=\"text-align: right;\">\n",
       "      <th></th>\n",
       "      <th>BenefitName</th>\n",
       "      <th>BusinessYear</th>\n",
       "      <th>CoinsInnTier1</th>\n",
       "      <th>CoinsInnTier2</th>\n",
       "      <th>CoinsOutofNet</th>\n",
       "      <th>CopayInnTier1</th>\n",
       "      <th>CopayInnTier2</th>\n",
       "      <th>CopayOutofNet</th>\n",
       "      <th>EHBVarReason</th>\n",
       "      <th>Exclusions</th>\n",
       "      <th>...</th>\n",
       "      <th>LimitUnit</th>\n",
       "      <th>MinimumStay</th>\n",
       "      <th>PlanId</th>\n",
       "      <th>QuantLimitOnSvc</th>\n",
       "      <th>RowNumber</th>\n",
       "      <th>SourceName</th>\n",
       "      <th>StandardComponentId</th>\n",
       "      <th>StateCode</th>\n",
       "      <th>StateCode2</th>\n",
       "      <th>VersionNum</th>\n",
       "    </tr>\n",
       "  </thead>\n",
       "  <tbody>\n",
       "    <tr>\n",
       "      <th>0</th>\n",
       "      <td>Routine Dental Services (Adult)</td>\n",
       "      <td>2014-01-01</td>\n",
       "      <td>20%</td>\n",
       "      <td>NaN</td>\n",
       "      <td>20%</td>\n",
       "      <td>No Charge</td>\n",
       "      <td>NaN</td>\n",
       "      <td>No Charge</td>\n",
       "      <td>Above EHB</td>\n",
       "      <td>NaN</td>\n",
       "      <td>...</td>\n",
       "      <td>Dollars per Year</td>\n",
       "      <td>NaN</td>\n",
       "      <td>21989AK0010001-00</td>\n",
       "      <td>Yes</td>\n",
       "      <td>68.0</td>\n",
       "      <td>HIOS</td>\n",
       "      <td>21989AK0010001</td>\n",
       "      <td>AK</td>\n",
       "      <td>AK</td>\n",
       "      <td>6.0</td>\n",
       "    </tr>\n",
       "    <tr>\n",
       "      <th>1</th>\n",
       "      <td>Dental Check-Up for Children</td>\n",
       "      <td>2014-01-01</td>\n",
       "      <td>20%</td>\n",
       "      <td>NaN</td>\n",
       "      <td>20%</td>\n",
       "      <td>No Charge</td>\n",
       "      <td>NaN</td>\n",
       "      <td>No Charge</td>\n",
       "      <td>Substantially Equal</td>\n",
       "      <td>NaN</td>\n",
       "      <td>...</td>\n",
       "      <td>Visit(s) per 6 Months</td>\n",
       "      <td>NaN</td>\n",
       "      <td>21989AK0010001-00</td>\n",
       "      <td>Yes</td>\n",
       "      <td>104.0</td>\n",
       "      <td>HIOS</td>\n",
       "      <td>21989AK0010001</td>\n",
       "      <td>AK</td>\n",
       "      <td>AK</td>\n",
       "      <td>6.0</td>\n",
       "    </tr>\n",
       "    <tr>\n",
       "      <th>2</th>\n",
       "      <td>Basic Dental Care - Child</td>\n",
       "      <td>2014-01-01</td>\n",
       "      <td>40%</td>\n",
       "      <td>NaN</td>\n",
       "      <td>40%</td>\n",
       "      <td>No Charge</td>\n",
       "      <td>NaN</td>\n",
       "      <td>No Charge</td>\n",
       "      <td>Substantially Equal</td>\n",
       "      <td>NaN</td>\n",
       "      <td>...</td>\n",
       "      <td>NaN</td>\n",
       "      <td>NaN</td>\n",
       "      <td>21989AK0010001-00</td>\n",
       "      <td>NaN</td>\n",
       "      <td>110.0</td>\n",
       "      <td>HIOS</td>\n",
       "      <td>21989AK0010001</td>\n",
       "      <td>AK</td>\n",
       "      <td>AK</td>\n",
       "      <td>6.0</td>\n",
       "    </tr>\n",
       "    <tr>\n",
       "      <th>3</th>\n",
       "      <td>Orthodontia - Child</td>\n",
       "      <td>2014-01-01</td>\n",
       "      <td>50%</td>\n",
       "      <td>NaN</td>\n",
       "      <td>50%</td>\n",
       "      <td>No Charge</td>\n",
       "      <td>NaN</td>\n",
       "      <td>No Charge</td>\n",
       "      <td>Additional EHB Benefit</td>\n",
       "      <td>NaN</td>\n",
       "      <td>...</td>\n",
       "      <td>NaN</td>\n",
       "      <td>NaN</td>\n",
       "      <td>21989AK0010001-00</td>\n",
       "      <td>NaN</td>\n",
       "      <td>111.0</td>\n",
       "      <td>HIOS</td>\n",
       "      <td>21989AK0010001</td>\n",
       "      <td>AK</td>\n",
       "      <td>AK</td>\n",
       "      <td>6.0</td>\n",
       "    </tr>\n",
       "    <tr>\n",
       "      <th>4</th>\n",
       "      <td>Major Dental Care - Child</td>\n",
       "      <td>2014-01-01</td>\n",
       "      <td>50%</td>\n",
       "      <td>NaN</td>\n",
       "      <td>50%</td>\n",
       "      <td>No Charge</td>\n",
       "      <td>NaN</td>\n",
       "      <td>No Charge</td>\n",
       "      <td>Substantially Equal</td>\n",
       "      <td>NaN</td>\n",
       "      <td>...</td>\n",
       "      <td>NaN</td>\n",
       "      <td>NaN</td>\n",
       "      <td>21989AK0010001-00</td>\n",
       "      <td>NaN</td>\n",
       "      <td>112.0</td>\n",
       "      <td>HIOS</td>\n",
       "      <td>21989AK0010001</td>\n",
       "      <td>AK</td>\n",
       "      <td>AK</td>\n",
       "      <td>6.0</td>\n",
       "    </tr>\n",
       "  </tbody>\n",
       "</table>\n",
       "<p>5 rows × 32 columns</p>\n",
       "</div>"
      ],
      "text/plain": [
       "                       BenefitName BusinessYear CoinsInnTier1 CoinsInnTier2  \\\n",
       "0  Routine Dental Services (Adult)   2014-01-01           20%           NaN   \n",
       "1     Dental Check-Up for Children   2014-01-01           20%           NaN   \n",
       "2        Basic Dental Care - Child   2014-01-01           40%           NaN   \n",
       "3              Orthodontia - Child   2014-01-01           50%           NaN   \n",
       "4        Major Dental Care - Child   2014-01-01           50%           NaN   \n",
       "\n",
       "  CoinsOutofNet CopayInnTier1 CopayInnTier2 CopayOutofNet  \\\n",
       "0           20%     No Charge           NaN     No Charge   \n",
       "1           20%     No Charge           NaN     No Charge   \n",
       "2           40%     No Charge           NaN     No Charge   \n",
       "3           50%     No Charge           NaN     No Charge   \n",
       "4           50%     No Charge           NaN     No Charge   \n",
       "\n",
       "             EHBVarReason Exclusions     ...                  LimitUnit  \\\n",
       "0               Above EHB        NaN     ...           Dollars per Year   \n",
       "1     Substantially Equal        NaN     ...      Visit(s) per 6 Months   \n",
       "2     Substantially Equal        NaN     ...                        NaN   \n",
       "3  Additional EHB Benefit        NaN     ...                        NaN   \n",
       "4     Substantially Equal        NaN     ...                        NaN   \n",
       "\n",
       "  MinimumStay             PlanId QuantLimitOnSvc RowNumber SourceName  \\\n",
       "0         NaN  21989AK0010001-00             Yes      68.0       HIOS   \n",
       "1         NaN  21989AK0010001-00             Yes     104.0       HIOS   \n",
       "2         NaN  21989AK0010001-00             NaN     110.0       HIOS   \n",
       "3         NaN  21989AK0010001-00             NaN     111.0       HIOS   \n",
       "4         NaN  21989AK0010001-00             NaN     112.0       HIOS   \n",
       "\n",
       "  StandardComponentId StateCode StateCode2  VersionNum  \n",
       "0      21989AK0010001        AK         AK         6.0  \n",
       "1      21989AK0010001        AK         AK         6.0  \n",
       "2      21989AK0010001        AK         AK         6.0  \n",
       "3      21989AK0010001        AK         AK         6.0  \n",
       "4      21989AK0010001        AK         AK         6.0  \n",
       "\n",
       "[5 rows x 32 columns]"
      ]
     },
     "execution_count": 149,
     "metadata": {},
     "output_type": "execute_result"
    }
   ],
   "source": [
    "benefits.head()\n",
    "#del benefits[['CoinsInnTier2','CopayInnTier2'.'Exclusions','MinimumStay']]"
   ]
  },
  {
   "cell_type": "code",
   "execution_count": 5,
   "metadata": {},
   "outputs": [
    {
     "data": {
      "text/plain": [
       "(14628, 32)"
      ]
     },
     "execution_count": 5,
     "metadata": {},
     "output_type": "execute_result"
    }
   ],
   "source": [
    "benefits.shape"
   ]
  },
  {
   "cell_type": "markdown",
   "metadata": {},
   "source": [
    "## Clean the data (Delete the coulmns) "
   ]
  },
  {
   "cell_type": "code",
   "execution_count": 150,
   "metadata": {},
   "outputs": [
    {
     "name": "stdout",
     "output_type": "stream",
     "text": [
      "Row is Null 13656\n",
      "Done Delete\n"
     ]
    }
   ],
   "source": [
    "print('Row is Null',benefits['CoinsInnTier2'].isnull().sum())\n",
    "# Delete this columns becouse all data NaN\n",
    "del benefits['CoinsInnTier2']\n",
    "print('Done Delete')"
   ]
  },
  {
   "cell_type": "code",
   "execution_count": 151,
   "metadata": {},
   "outputs": [
    {
     "name": "stdout",
     "output_type": "stream",
     "text": [
      "Row is Null 13656\n",
      "Done Delete\n"
     ]
    }
   ],
   "source": [
    "print('Row is Null',benefits['CopayInnTier2'].isnull().sum())\n",
    "# Delete this columns becouse all data NaN\n",
    "del benefits['CopayInnTier2']\n",
    "print('Done Delete')"
   ]
  },
  {
   "cell_type": "code",
   "execution_count": 153,
   "metadata": {},
   "outputs": [
    {
     "name": "stdout",
     "output_type": "stream",
     "text": [
      "Row is Null 14167\n",
      "Done Delete\n"
     ]
    }
   ],
   "source": [
    "print('Row is Null',benefits['Exclusions'].isnull().sum())\n",
    "# Delete this columns becouse all data NaN\n",
    "del benefits['Exclusions']\n",
    "print('Done Delete')"
   ]
  },
  {
   "cell_type": "code",
   "execution_count": 154,
   "metadata": {},
   "outputs": [
    {
     "name": "stdout",
     "output_type": "stream",
     "text": [
      "Row is Null 14628\n",
      "Done Delete\n"
     ]
    }
   ],
   "source": [
    "print('Row is Null',benefits['MinimumStay'].isnull().sum())\n",
    "# Delete this columns becouse all data NaN\n",
    "del benefits['MinimumStay']\n",
    "print('Done Delete')"
   ]
  },
  {
   "cell_type": "code",
   "execution_count": 155,
   "metadata": {},
   "outputs": [
    {
     "name": "stdout",
     "output_type": "stream",
     "text": [
      "Donedrop_duplicates\n"
     ]
    }
   ],
   "source": [
    " benefits.drop_duplicates()\n",
    "print('Done'+ ''+ 'drop_duplicates')"
   ]
  },
  {
   "cell_type": "code",
   "execution_count": 156,
   "metadata": {},
   "outputs": [
    {
     "data": {
      "text/plain": [
       "(14628, 28)"
      ]
     },
     "execution_count": 156,
     "metadata": {},
     "output_type": "execute_result"
    }
   ],
   "source": [
    "benefits.shape"
   ]
  },
  {
   "cell_type": "code",
   "execution_count": 157,
   "metadata": {},
   "outputs": [
    {
     "data": {
      "text/plain": [
       "Index(['BenefitName', 'BusinessYear', 'CoinsInnTier1', 'CoinsOutofNet',\n",
       "       'CopayInnTier1', 'CopayOutofNet', 'EHBVarReason', 'Explanation',\n",
       "       'ImportDate', 'IsCovered', 'IsEHB', 'IsExclFromInnMOOP',\n",
       "       'IsExclFromOonMOOP', 'IsStateMandate', 'IsSubjToDedTier1',\n",
       "       'IsSubjToDedTier2', 'IssuerId', 'IssuerId2', 'LimitQty', 'LimitUnit',\n",
       "       'PlanId', 'QuantLimitOnSvc', 'RowNumber', 'SourceName',\n",
       "       'StandardComponentId', 'StateCode', 'StateCode2', 'VersionNum'],\n",
       "      dtype='object')"
      ]
     },
     "execution_count": 157,
     "metadata": {},
     "output_type": "execute_result"
    }
   ],
   "source": [
    "benefits.columns"
   ]
  },
  {
   "cell_type": "code",
   "execution_count": 76,
   "metadata": {},
   "outputs": [],
   "source": [
    "#benefits['BenefitName'].unique().tolist()"
   ]
  },
  {
   "cell_type": "code",
   "execution_count": 158,
   "metadata": {},
   "outputs": [
    {
     "name": "stdout",
     "output_type": "stream",
     "text": [
      "Max_BenefitName_value:-  357\n",
      "Max_BenefitName:-  X-rays and Diagnostic Imaging\n",
      "unique_beN_Values:-  Index(['Routine Dental Services (Adult)', 'Dental Check-Up for Children',\n",
      "       'Orthodontia - Child', 'Basic Dental Care - Child', 'Accidental Dental',\n",
      "       'Basic Dental Care - Adult', 'Orthodontia - Adult',\n",
      "       'Major Dental Care - Child', 'Major Dental Care - Adult',\n",
      "       'Inpatient Hospital Services (e.g., Hospital Stay)',\n",
      "       ...\n",
      "       'Periodontal Root Scaling and Planing', 'Sealants',\n",
      "       'Denture Reline or Rebase', 'Tissue Conditioning',\n",
      "       'Removal of Fixed Space Maintainer', 'Partial Pulpotomy',\n",
      "       'Occlusal Adjustments', 'Immediate Dentures', 'Topical Flouride',\n",
      "       'Vital Pulpotomy'],\n",
      "      dtype='object', length=119)\n",
      "unique_beN_Values_number:-  [357 356 355 182 181 179 101  85  78  49  42  22  12   9   8   7   4   1]\n"
     ]
    }
   ],
   "source": [
    "print('Max_BenefitName_value:- ',benefits['BenefitName'].value_counts().max())\n",
    "print('Max_BenefitName:- ',benefits['BenefitName'].value_counts().index.max())\n",
    "print('unique_beN_Values:- ',benefits['BenefitName'].value_counts().index.unique())\n",
    "print('unique_beN_Values_number:- ',benefits['BenefitName'].value_counts().unique())\n"
   ]
  },
  {
   "cell_type": "code",
   "execution_count": 159,
   "metadata": {},
   "outputs": [
    {
     "name": "stdout",
     "output_type": "stream",
     "text": [
      "type of BusinessYear:-  datetime64[ns]\n",
      "DatetimeIndex(['2014-01-01'], dtype='datetime64[ns]', freq=None)\n",
      "All record all 2014:-  [14628]\n"
     ]
    }
   ],
   "source": [
    "print('type of BusinessYear:- ',benefits['BusinessYear'].dtype)\n",
    "print(benefits['BusinessYear'].value_counts().index.unique())\n",
    "print('All record all 2014:- ',benefits['BusinessYear'].value_counts().unique())"
   ]
  },
  {
   "cell_type": "code",
   "execution_count": 160,
   "metadata": {},
   "outputs": [
    {
     "data": {
      "text/plain": [
       "[<matplotlib.lines.Line2D at 0x7f181c85dba8>]"
      ]
     },
     "execution_count": 160,
     "metadata": {},
     "output_type": "execute_result"
    },
    {
     "data": {
      "image/png": "[encoded data removed]",
      "text/plain": [
       "<Figure size 432x288 with 1 Axes>"
      ]
     },
     "metadata": {},
     "output_type": "display_data"
    }
   ],
   "source": [
    "#print('unique_beN_Values:- ',benefits['BenefitName'].value_counts().index.unique())\n",
    "plt.title('Benefists_Name _2014')\n",
    "plt.ylabel('Benefists_values')\n",
    "#plt.pie(benefits['BenefitName'].value_counts().unique())\n",
    "plt.plot(benefits['BenefitName'].value_counts().unique(),'r')\n",
    "\n",
    "#plt.hist(benefits['BenefitName'].value_counts().index.unique())\n",
    "#add\n"
   ]
  },
  {
   "cell_type": "code",
   "execution_count": 161,
   "metadata": {},
   "outputs": [
    {
     "data": {
      "text/plain": [
       "BenefitName\n",
       "Abortion for Which Public Funding is Prohibited                    179\n",
       "Accident Benefit                                                    22\n",
       "Accidental Dental                                                  355\n",
       "Acupuncture                                                        181\n",
       "Allergy Testing                                                    179\n",
       "Autism Spectrum Disorders                                            7\n",
       "Bariatric Surgery                                                  182\n",
       "Basic Dental Care - Adult                                          355\n",
       "Basic Dental Care - Child                                          356\n",
       "Chemotherapy                                                       179\n",
       "Chiropractic Care                                                  181\n",
       "Clinical Trials                                                     85\n",
       "Complex Oral Surgery                                                 1\n",
       "Congenital Anomaly, including Cleft Lip/Palate                      49\n",
       "Cosmetic Surgery                                                   182\n",
       "Delivery and All Inpatient Services for Maternity Care             182\n",
       "Dental Anesthesia                                                    7\n",
       "Dental Check-Up for Children                                       357\n",
       "Dental X-Rays                                                        1\n",
       "Denture Adjustments                                                  1\n",
       "Denture Reline or Rebase                                             1\n",
       "Diabetes Care Management                                            85\n",
       "Diabetes Education                                                 179\n",
       "Dialysis                                                           179\n",
       "Durable Medical Equipment                                          181\n",
       "Electroconvulsive Therapy (ECT)                                      7\n",
       "Emergency Room Services                                            181\n",
       "Emergency Transportation/Ambulance                                 182\n",
       "Extractions                                                          1\n",
       "Eye Glasses for Children                                           181\n",
       "                                                                  ... \n",
       "Prosthetic Devices                                                 179\n",
       "Radiation                                                          179\n",
       "Recementation of Space Maintainer                                    1\n",
       "Reconstructive Surgery                                             179\n",
       "Rehabilitative Occupational and Rehabilitative Physical Therapy    181\n",
       "Rehabilitative Speech Therapy                                      181\n",
       "Removal of Fixed Space Maintainer                                    1\n",
       "Restorative Services                                                 1\n",
       "Root Canal Therapy and Retreatment                                   1\n",
       "Routine Dental Services (Adult)                                    357\n",
       "Routine Eye Exam (Adult)                                           181\n",
       "Routine Eye Exam for Children                                      181\n",
       "Routine Foot Care                                                  181\n",
       "Sealants                                                             1\n",
       "Sickle Cell Anemia                                                  42\n",
       "Skilled Nursing Facility                                           182\n",
       "Specialist Visit                                                   181\n",
       "Specialty Drugs                                                    182\n",
       "Substance Abuse Disorder Inpatient Services                        182\n",
       "Substance Abuse Disorder Outpatient Services                       182\n",
       "Telemedicine/Telehealth                                              8\n",
       "Tissue Conditioning                                                  1\n",
       "Topical Flouride                                                     1\n",
       "Transplant                                                         179\n",
       "Treatment for Temporomandibular Joint Disorders                    179\n",
       "Urgent Care Centers or Facilities                                  181\n",
       "Vital Pulpotomy                                                      1\n",
       "Weight Loss Programs                                               181\n",
       "Well Baby Visits and Care                                          181\n",
       "X-rays and Diagnostic Imaging                                      181\n",
       "Name: BenefitName, Length: 119, dtype: int64"
      ]
     },
     "execution_count": 161,
     "metadata": {},
     "output_type": "execute_result"
    }
   ],
   "source": [
    "benefits.groupby('BenefitName').BenefitName.count()"
   ]
  },
  {
   "cell_type": "code",
   "execution_count": 125,
   "metadata": {},
   "outputs": [
    {
     "data": {
      "text/plain": [
       "[<matplotlib.lines.Line2D at 0x7f181cbd53c8>]"
      ]
     },
     "execution_count": 125,
     "metadata": {},
     "output_type": "execute_result"
    },
    {
     "data": {
      "image/png": "[encoded data removed]",
      "text/plain": [
       "<Figure size 432x288 with 1 Axes>"
      ]
     },
     "metadata": {},
     "output_type": "display_data"
    }
   ],
   "source": [
    "plt.title('Benefists_Name _2014')\n",
    "plt.ylabel('Benefists_values')\n",
    "plt.plot(benefits.groupby('BenefitName').BenefitName.count(),'g')"
   ]
  },
  {
   "cell_type": "code",
   "execution_count": 130,
   "metadata": {},
   "outputs": [
    {
     "data": {
      "text/plain": [
       "[<matplotlib.lines.Line2D at 0x7f181c94be10>]"
      ]
     },
     "execution_count": 130,
     "metadata": {},
     "output_type": "execute_result"
    },
    {
     "data": {
      "image/png": "[encoded data removed]",
      "text/plain": [
       "<Figure size 432x288 with 1 Axes>"
      ]
     },
     "metadata": {},
     "output_type": "display_data"
    }
   ],
   "source": [
    "plt.plot(benefits.groupby('BenefitName').BenefitName.count().unique())"
   ]
  },
  {
   "cell_type": "code",
   "execution_count": 162,
   "metadata": {},
   "outputs": [
    {
     "name": "stdout",
     "output_type": "stream",
     "text": [
      "Sum row is unll:-  1\n",
      "Done Fill!!\n"
     ]
    }
   ],
   "source": [
    "print('Sum row is unll:- ',benefits['StateCode'].isnull().sum())\n",
    "benefits['StateCode'].fillna(method='ffill')\n",
    "print('Done Fill!!')"
   ]
  },
  {
   "cell_type": "code",
   "execution_count": 163,
   "metadata": {},
   "outputs": [
    {
     "data": {
      "text/plain": [
       "Index(['AL', 'AK', 'AZ'], dtype='object')"
      ]
     },
     "execution_count": 163,
     "metadata": {},
     "output_type": "execute_result"
    }
   ],
   "source": [
    "benefits['StateCode'].value_counts().index.unique()"
   ]
  },
  {
   "cell_type": "code",
   "execution_count": 164,
   "metadata": {},
   "outputs": [
    {
     "data": {
      "text/plain": [
       "StateCode\n",
       "AK    6122\n",
       "AL    7621\n",
       "AZ     884\n",
       "Name: StateCode, dtype: int64"
      ]
     },
     "execution_count": 164,
     "metadata": {},
     "output_type": "execute_result"
    }
   ],
   "source": [
    "benefits.groupby('StateCode').StateCode.count()\n"
   ]
  },
  {
   "cell_type": "code",
   "execution_count": 137,
   "metadata": {},
   "outputs": [
    {
     "data": {
      "text/html": [
       "<div>\n",
       "<style scoped>\n",
       "    .dataframe tbody tr th:only-of-type {\n",
       "        vertical-align: middle;\n",
       "    }\n",
       "\n",
       "    .dataframe tbody tr th {\n",
       "        vertical-align: top;\n",
       "    }\n",
       "\n",
       "    .dataframe thead th {\n",
       "        text-align: right;\n",
       "    }\n",
       "</style>\n",
       "<table border=\"1\" class=\"dataframe\">\n",
       "  <thead>\n",
       "    <tr style=\"text-align: right;\">\n",
       "      <th></th>\n",
       "      <th>IssuerId</th>\n",
       "      <th>IssuerId2</th>\n",
       "      <th>LimitQty</th>\n",
       "      <th>MinimumStay</th>\n",
       "      <th>RowNumber</th>\n",
       "      <th>VersionNum</th>\n",
       "    </tr>\n",
       "  </thead>\n",
       "  <tbody>\n",
       "    <tr>\n",
       "      <th>count</th>\n",
       "      <td>14627.000000</td>\n",
       "      <td>14627.000000</td>\n",
       "      <td>2269.000000</td>\n",
       "      <td>0.0</td>\n",
       "      <td>14627.000000</td>\n",
       "      <td>14627.000000</td>\n",
       "    </tr>\n",
       "    <tr>\n",
       "      <th>mean</th>\n",
       "      <td>56377.393587</td>\n",
       "      <td>56377.393587</td>\n",
       "      <td>57.844866</td>\n",
       "      <td>NaN</td>\n",
       "      <td>97.690914</td>\n",
       "      <td>7.155808</td>\n",
       "    </tr>\n",
       "    <tr>\n",
       "      <th>std</th>\n",
       "      <td>17410.094163</td>\n",
       "      <td>17410.094163</td>\n",
       "      <td>239.057653</td>\n",
       "      <td>NaN</td>\n",
       "      <td>20.542382</td>\n",
       "      <td>1.775171</td>\n",
       "    </tr>\n",
       "    <tr>\n",
       "      <th>min</th>\n",
       "      <td>12538.000000</td>\n",
       "      <td>12538.000000</td>\n",
       "      <td>1.000000</td>\n",
       "      <td>NaN</td>\n",
       "      <td>61.000000</td>\n",
       "      <td>1.000000</td>\n",
       "    </tr>\n",
       "    <tr>\n",
       "      <th>25%</th>\n",
       "      <td>44580.000000</td>\n",
       "      <td>44580.000000</td>\n",
       "      <td>1.000000</td>\n",
       "      <td>NaN</td>\n",
       "      <td>80.000000</td>\n",
       "      <td>6.000000</td>\n",
       "    </tr>\n",
       "    <tr>\n",
       "      <th>50%</th>\n",
       "      <td>46944.000000</td>\n",
       "      <td>46944.000000</td>\n",
       "      <td>12.000000</td>\n",
       "      <td>NaN</td>\n",
       "      <td>100.000000</td>\n",
       "      <td>7.000000</td>\n",
       "    </tr>\n",
       "    <tr>\n",
       "      <th>75%</th>\n",
       "      <td>73836.000000</td>\n",
       "      <td>73836.000000</td>\n",
       "      <td>30.000000</td>\n",
       "      <td>NaN</td>\n",
       "      <td>114.000000</td>\n",
       "      <td>8.000000</td>\n",
       "    </tr>\n",
       "    <tr>\n",
       "      <th>max</th>\n",
       "      <td>84859.000000</td>\n",
       "      <td>84859.000000</td>\n",
       "      <td>2500.000000</td>\n",
       "      <td>NaN</td>\n",
       "      <td>142.000000</td>\n",
       "      <td>10.000000</td>\n",
       "    </tr>\n",
       "  </tbody>\n",
       "</table>\n",
       "</div>"
      ],
      "text/plain": [
       "           IssuerId     IssuerId2     LimitQty  MinimumStay     RowNumber  \\\n",
       "count  14627.000000  14627.000000  2269.000000          0.0  14627.000000   \n",
       "mean   56377.393587  56377.393587    57.844866          NaN     97.690914   \n",
       "std    17410.094163  17410.094163   239.057653          NaN     20.542382   \n",
       "min    12538.000000  12538.000000     1.000000          NaN     61.000000   \n",
       "25%    44580.000000  44580.000000     1.000000          NaN     80.000000   \n",
       "50%    46944.000000  46944.000000    12.000000          NaN    100.000000   \n",
       "75%    73836.000000  73836.000000    30.000000          NaN    114.000000   \n",
       "max    84859.000000  84859.000000  2500.000000          NaN    142.000000   \n",
       "\n",
       "         VersionNum  \n",
       "count  14627.000000  \n",
       "mean       7.155808  \n",
       "std        1.775171  \n",
       "min        1.000000  \n",
       "25%        6.000000  \n",
       "50%        7.000000  \n",
       "75%        8.000000  \n",
       "max       10.000000  "
      ]
     },
     "execution_count": 137,
     "metadata": {},
     "output_type": "execute_result"
    }
   ],
   "source": [
    "benefits.describe()"
   ]
  },
  {
   "cell_type": "code",
   "execution_count": 168,
   "metadata": {},
   "outputs": [
    {
     "name": "stdout",
     "output_type": "stream",
     "text": [
      "Sum row is unll:-  0\n",
      "Done Fill!!\n"
     ]
    }
   ],
   "source": [
    "print('Sum row is unll:- ',benefits['BenefitName'].isnull().sum())\n",
    "benefits['BenefitName'].fillna(method='ffill')\n",
    "print('Done Fill!!')"
   ]
  },
  {
   "cell_type": "code",
   "execution_count": null,
   "metadata": {},
   "outputs": [],
   "source": []
  },
  {
   "cell_type": "code",
   "execution_count": 179,
   "metadata": {},
   "outputs": [
    {
     "name": "stdout",
     "output_type": "stream",
     "text": [
      "3694\n",
      "3694\n",
      "object\n"
     ]
    }
   ],
   "source": [
    "#benefits['CoinsInnTier1'].fillna(method='ffill')\n",
    "print(benefits['CoinsInnTier1'].isnull().sum())\n",
    "print(benefits['CoinsInnTier1'].dtype)\n",
    "benefits['CoinsInnTier1'].to_numeric\n",
    "\n",
    "benefits['CoinsInnTier1'].fillna(method='backfill')\n",
    "print(benefits['CoinsInnTier1'].isnull().sum())\n",
    "\n",
    "#print('done', benefits.isnull().any())"
   ]
  },
  {
   "cell_type": "code",
   "execution_count": null,
   "metadata": {},
   "outputs": [],
   "source": []
  }
 ],
 "metadata": {
  "kernelspec": {
   "display_name": "Python 3",
   "language": "python",
   "name": "python3"
  },
  "language_info": {
   "codemirror_mode": {
    "name": "ipython",
    "version": 3
   },
   "file_extension": ".py",
   "mimetype": "text/x-python",
   "name": "python",
   "nbconvert_exporter": "python",
   "pygments_lexer": "ipython3",
   "version": "3.6.5"
  }
 },
 "nbformat": 4,
 "nbformat_minor": 2
}
