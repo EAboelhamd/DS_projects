{
 "cells": [
  {
   "cell_type": "markdown",
   "metadata": {},
   "source": []
  },
  {
   "cell_type": "code",
   "execution_count": 1,
   "metadata": {},
   "outputs": [],
   "source": [
    "import pandas as pd\n",
    "import numpy as np"
   ]
  },
  {
   "cell_type": "code",
   "execution_count": 2,
   "metadata": {},
   "outputs": [],
   "source": [
    "energy =pd.read_excel('Energy Indicators.xls',sheet_name='Energy',skiprows=16,skipfooter=38)"
   ]
  },
  {
   "cell_type": "code",
   "execution_count": 3,
   "metadata": {},
   "outputs": [
    {
     "data": {
      "text/plain": [
       "(228, 6)"
      ]
     },
     "execution_count": 3,
     "metadata": {},
     "output_type": "execute_result"
    }
   ],
   "source": [
    "energy.shape\n",
    "# energy.head()\n"
   ]
  },
  {
   "cell_type": "code",
   "execution_count": 4,
   "metadata": {},
   "outputs": [],
   "source": [
    "del energy['Unnamed: 0']\n",
    "del energy['Unnamed: 1']\n"
   ]
  },
  {
   "cell_type": "code",
   "execution_count": 5,
   "metadata": {},
   "outputs": [],
   "source": [
    "energy.columns=['Country', 'Energy Supply', 'Energy Supply per Capita', '% Renewable']"
   ]
  },
  {
   "cell_type": "code",
   "execution_count": 6,
   "metadata": {},
   "outputs": [
    {
     "data": {
      "text/plain": [
       "(228, 4)"
      ]
     },
     "execution_count": 6,
     "metadata": {},
     "output_type": "execute_result"
    }
   ],
   "source": [
    "energy_copy = energy.copy()\n",
    "energy_copy.shape"
   ]
  },
  {
   "cell_type": "code",
   "execution_count": 7,
   "metadata": {},
   "outputs": [],
   "source": [
    "energy_copy.columns=['Country', 'Energy Supply', 'Energy Supply per Capita', '% Renewable']"
   ]
  },
  {
   "cell_type": "code",
   "execution_count": 8,
   "metadata": {},
   "outputs": [],
   "source": [
    "energy_copy=energy_copy.drop(0)"
   ]
  },
  {
   "cell_type": "code",
   "execution_count": 9,
   "metadata": {},
   "outputs": [
    {
     "data": {
      "text/plain": [
       "(227, 4)"
      ]
     },
     "execution_count": 9,
     "metadata": {},
     "output_type": "execute_result"
    }
   ],
   "source": [
    "energy_copy.shape"
   ]
  },
  {
   "cell_type": "code",
   "execution_count": 10,
   "metadata": {},
   "outputs": [],
   "source": [
    "# energy_copy['Country'].unique().tolist()"
   ]
  },
  {
   "cell_type": "code",
   "execution_count": 11,
   "metadata": {},
   "outputs": [],
   "source": [
    "energy_copy['Energy Supply']=energy_copy['Energy Supply'].fillna(np.nan)\n"
   ]
  },
  {
   "cell_type": "code",
   "execution_count": 12,
   "metadata": {},
   "outputs": [],
   "source": [
    "energy_copy= energy_copy.replace('...',np.nan)"
   ]
  },
  {
   "cell_type": "code",
   "execution_count": 13,
   "metadata": {},
   "outputs": [
    {
     "data": {
      "text/plain": [
       "(227, 4)"
      ]
     },
     "execution_count": 13,
     "metadata": {},
     "output_type": "execute_result"
    }
   ],
   "source": [
    "energy_copy.shape"
   ]
  },
  {
   "cell_type": "code",
   "execution_count": 14,
   "metadata": {},
   "outputs": [],
   "source": [
    "energy_copy['Energy Supply']=energy_copy['Energy Supply']*1000000"
   ]
  },
  {
   "cell_type": "code",
   "execution_count": 15,
   "metadata": {},
   "outputs": [],
   "source": [
    "energy_copy['Country']= energy_copy['Country'].str.replace(\"[0-9]+$\",'')\n"
   ]
  },
  {
   "cell_type": "code",
   "execution_count": 16,
   "metadata": {},
   "outputs": [],
   "source": [
    "energy_copy['Country']= energy_copy['Country'].replace('United States of America','United States')\n"
   ]
  },
  {
   "cell_type": "code",
   "execution_count": 17,
   "metadata": {},
   "outputs": [
    {
     "data": {
      "text/html": [
       "<div>\n",
       "<style scoped>\n",
       "    .dataframe tbody tr th:only-of-type {\n",
       "        vertical-align: middle;\n",
       "    }\n",
       "\n",
       "    .dataframe tbody tr th {\n",
       "        vertical-align: top;\n",
       "    }\n",
       "\n",
       "    .dataframe thead th {\n",
       "        text-align: right;\n",
       "    }\n",
       "</style>\n",
       "<table border=\"1\" class=\"dataframe\">\n",
       "  <thead>\n",
       "    <tr style=\"text-align: right;\">\n",
       "      <th></th>\n",
       "      <th>Country</th>\n",
       "      <th>Energy Supply</th>\n",
       "      <th>Energy Supply per Capita</th>\n",
       "      <th>% Renewable</th>\n",
       "    </tr>\n",
       "  </thead>\n",
       "  <tbody>\n",
       "    <tr>\n",
       "      <th>25</th>\n",
       "      <td>Bolivia (Plurinational State of)</td>\n",
       "      <td>336000000.0</td>\n",
       "      <td>32.0</td>\n",
       "      <td>31.47712</td>\n",
       "    </tr>\n",
       "  </tbody>\n",
       "</table>\n",
       "</div>"
      ],
      "text/plain": [
       "                             Country  Energy Supply  Energy Supply per Capita  \\\n",
       "25  Bolivia (Plurinational State of)    336000000.0                      32.0   \n",
       "\n",
       "    % Renewable  \n",
       "25     31.47712  "
      ]
     },
     "execution_count": 17,
     "metadata": {},
     "output_type": "execute_result"
    }
   ],
   "source": [
    "energy_copy.loc[energy_copy['Country']== 'Bolivia (Plurinational State of)']"
   ]
  },
  {
   "cell_type": "code",
   "execution_count": 18,
   "metadata": {},
   "outputs": [],
   "source": [
    "# energy_copy.loc[energy_copy['Country']== 'United States']"
   ]
  },
  {
   "cell_type": "code",
   "execution_count": 52,
   "metadata": {},
   "outputs": [
    {
     "data": {
      "text/plain": [
       "227"
      ]
     },
     "execution_count": 52,
     "metadata": {},
     "output_type": "execute_result"
    }
   ],
   "source": [
    "len(energy_copy['Country'].unique().tolist())"
   ]
  },
  {
   "cell_type": "code",
   "execution_count": 19,
   "metadata": {},
   "outputs": [],
   "source": [
    "\n",
    "# energy_copy['Country']= energy_copy['Country'].replace('Iran (Islamic Republic of)','Iran')\n"
   ]
  },
  {
   "cell_type": "code",
   "execution_count": 20,
   "metadata": {},
   "outputs": [],
   "source": [
    "energy_copy['Country']= energy_copy['Country'].replace('Bolivia (Plurinational State of)','Bolivia')\n"
   ]
  },
  {
   "cell_type": "code",
   "execution_count": 21,
   "metadata": {},
   "outputs": [],
   "source": [
    "energy_copy['Country']= energy_copy['Country'].replace('Republic of Korea','South Korea')\n"
   ]
  },
  {
   "cell_type": "code",
   "execution_count": 22,
   "metadata": {},
   "outputs": [],
   "source": [
    "energy_copy['Country']= energy_copy['Country'].replace('Switzerland17','Switzerland')"
   ]
  },
  {
   "cell_type": "code",
   "execution_count": 23,
   "metadata": {},
   "outputs": [],
   "source": [
    "energy_copy['Country']= energy_copy['Country'].replace('United Kingdom of Great Britain and Northern Ireland','United Kingdom')\n"
   ]
  },
  {
   "cell_type": "code",
   "execution_count": 24,
   "metadata": {},
   "outputs": [],
   "source": [
    "# energy_copy.loc[energy_copy['Country']== 'United Kingdom']"
   ]
  },
  {
   "cell_type": "code",
   "execution_count": 25,
   "metadata": {},
   "outputs": [],
   "source": [
    "energy_copy['Country']= energy_copy['Country'].str.replace(\" \\(.*?\\)\",'')\n"
   ]
  },
  {
   "cell_type": "code",
   "execution_count": 26,
   "metadata": {},
   "outputs": [],
   "source": [
    "# energy_copy['Country'].unique().tolist()"
   ]
  },
  {
   "cell_type": "code",
   "execution_count": 27,
   "metadata": {},
   "outputs": [],
   "source": [
    "# energy_copy.loc[energy_copy['Country']== 'United States']\n"
   ]
  },
  {
   "cell_type": "code",
   "execution_count": 102,
   "metadata": {},
   "outputs": [
    {
     "data": {
      "text/plain": [
       "90.66666666666667"
      ]
     },
     "execution_count": 102,
     "metadata": {},
     "output_type": "execute_result"
    }
   ],
   "source": []
  },
  {
   "cell_type": "code",
   "execution_count": 29,
   "metadata": {},
   "outputs": [],
   "source": [
    "GDP=pd.read_csv('world_bank.csv',sep=',',skiprows=3)"
   ]
  },
  {
   "cell_type": "code",
   "execution_count": 30,
   "metadata": {},
   "outputs": [],
   "source": [
    "# GDP.head()"
   ]
  },
  {
   "cell_type": "code",
   "execution_count": 31,
   "metadata": {},
   "outputs": [],
   "source": [
    "del GDP['2016']\n",
    "del GDP['2017']"
   ]
  },
  {
   "cell_type": "code",
   "execution_count": 32,
   "metadata": {},
   "outputs": [],
   "source": [
    "# GDP.head()"
   ]
  },
  {
   "cell_type": "code",
   "execution_count": 33,
   "metadata": {},
   "outputs": [],
   "source": [
    "GDP_copy= GDP.copy()"
   ]
  },
  {
   "cell_type": "code",
   "execution_count": 34,
   "metadata": {},
   "outputs": [],
   "source": [
    "GDP_copy['Country Name']= GDP_copy['Country Name'].replace('Korea, Rep.','South Korea')\n"
   ]
  },
  {
   "cell_type": "code",
   "execution_count": 35,
   "metadata": {},
   "outputs": [],
   "source": [
    "GDP_copy['Country Name']= GDP_copy['Country Name'].replace('Iran, Islamic Rep.','Iran')\n",
    "GDP_copy['Country Name']= GDP_copy['Country Name'].replace('Hong Kong SAR, China','Hong Kong')\n",
    "\n"
   ]
  },
  {
   "cell_type": "code",
   "execution_count": 36,
   "metadata": {},
   "outputs": [],
   "source": [
    "# GDP_copy.loc[GDP_copy['Country']=='United States']"
   ]
  },
  {
   "cell_type": "code",
   "execution_count": 37,
   "metadata": {},
   "outputs": [],
   "source": [
    " GDP_copy=GDP_copy.rename(columns={'Country Name':'Country'})"
   ]
  },
  {
   "cell_type": "code",
   "execution_count": 53,
   "metadata": {},
   "outputs": [
    {
     "data": {
      "text/plain": [
       "264"
      ]
     },
     "execution_count": 53,
     "metadata": {},
     "output_type": "execute_result"
    }
   ],
   "source": [
    "len(GDP_copy['Country'].unique().tolist())"
   ]
  },
  {
   "cell_type": "code",
   "execution_count": 38,
   "metadata": {},
   "outputs": [],
   "source": [
    "ScimEn=pd.read_excel('scimagojr.xlsx')"
   ]
  },
  {
   "cell_type": "code",
   "execution_count": 39,
   "metadata": {},
   "outputs": [
    {
     "data": {
      "text/html": [
       "<div>\n",
       "<style scoped>\n",
       "    .dataframe tbody tr th:only-of-type {\n",
       "        vertical-align: middle;\n",
       "    }\n",
       "\n",
       "    .dataframe tbody tr th {\n",
       "        vertical-align: top;\n",
       "    }\n",
       "\n",
       "    .dataframe thead th {\n",
       "        text-align: right;\n",
       "    }\n",
       "</style>\n",
       "<table border=\"1\" class=\"dataframe\">\n",
       "  <thead>\n",
       "    <tr style=\"text-align: right;\">\n",
       "      <th></th>\n",
       "      <th>Rank</th>\n",
       "      <th>Country</th>\n",
       "      <th>Documents</th>\n",
       "      <th>Citable documents</th>\n",
       "      <th>Citations</th>\n",
       "      <th>Self-citations</th>\n",
       "      <th>Citations per document</th>\n",
       "      <th>H index</th>\n",
       "    </tr>\n",
       "  </thead>\n",
       "  <tbody>\n",
       "    <tr>\n",
       "      <th>0</th>\n",
       "      <td>1</td>\n",
       "      <td>China</td>\n",
       "      <td>14761</td>\n",
       "      <td>14708</td>\n",
       "      <td>73822</td>\n",
       "      <td>53600</td>\n",
       "      <td>5.00</td>\n",
       "      <td>176</td>\n",
       "    </tr>\n",
       "    <tr>\n",
       "      <th>1</th>\n",
       "      <td>2</td>\n",
       "      <td>United States</td>\n",
       "      <td>8023</td>\n",
       "      <td>7707</td>\n",
       "      <td>36226</td>\n",
       "      <td>14058</td>\n",
       "      <td>4.52</td>\n",
       "      <td>278</td>\n",
       "    </tr>\n",
       "    <tr>\n",
       "      <th>2</th>\n",
       "      <td>3</td>\n",
       "      <td>India</td>\n",
       "      <td>2387</td>\n",
       "      <td>2351</td>\n",
       "      <td>10166</td>\n",
       "      <td>3655</td>\n",
       "      <td>4.26</td>\n",
       "      <td>141</td>\n",
       "    </tr>\n",
       "    <tr>\n",
       "      <th>3</th>\n",
       "      <td>4</td>\n",
       "      <td>United Kingdom</td>\n",
       "      <td>1964</td>\n",
       "      <td>1916</td>\n",
       "      <td>12200</td>\n",
       "      <td>3193</td>\n",
       "      <td>6.21</td>\n",
       "      <td>170</td>\n",
       "    </tr>\n",
       "    <tr>\n",
       "      <th>4</th>\n",
       "      <td>5</td>\n",
       "      <td>Germany</td>\n",
       "      <td>1871</td>\n",
       "      <td>1824</td>\n",
       "      <td>8716</td>\n",
       "      <td>2699</td>\n",
       "      <td>4.66</td>\n",
       "      <td>151</td>\n",
       "    </tr>\n",
       "  </tbody>\n",
       "</table>\n",
       "</div>"
      ],
      "text/plain": [
       "   Rank         Country  Documents  Citable documents  Citations  \\\n",
       "0     1           China      14761              14708      73822   \n",
       "1     2   United States       8023               7707      36226   \n",
       "2     3           India       2387               2351      10166   \n",
       "3     4  United Kingdom       1964               1916      12200   \n",
       "4     5         Germany       1871               1824       8716   \n",
       "\n",
       "   Self-citations  Citations per document  H index  \n",
       "0           53600                    5.00      176  \n",
       "1           14058                    4.52      278  \n",
       "2            3655                    4.26      141  \n",
       "3            3193                    6.21      170  \n",
       "4            2699                    4.66      151  "
      ]
     },
     "execution_count": 39,
     "metadata": {},
     "output_type": "execute_result"
    }
   ],
   "source": [
    "ScimEn.head()"
   ]
  },
  {
   "cell_type": "code",
   "execution_count": 40,
   "metadata": {},
   "outputs": [],
   "source": [
    "GDP_copy_10=GDP_copy.copy()"
   ]
  },
  {
   "cell_type": "code",
   "execution_count": 41,
   "metadata": {},
   "outputs": [],
   "source": [
    "columns= GDP_copy_10.loc[:,'1960':'2005']\n",
    "\n",
    "GDP_copy_10= GDP_copy_10.drop(columns,axis=1) "
   ]
  },
  {
   "cell_type": "code",
   "execution_count": 42,
   "metadata": {},
   "outputs": [],
   "source": [
    "del GDP_copy_10['Unnamed: 62']"
   ]
  },
  {
   "cell_type": "code",
   "execution_count": 43,
   "metadata": {},
   "outputs": [],
   "source": [
    "columns1= GDP_copy_10.loc[:,'Country Code':'Indicator Code']\n",
    "\n",
    "GDP_copy_10= GDP_copy_10.drop(columns1, axis=1)"
   ]
  },
  {
   "cell_type": "code",
   "execution_count": 55,
   "metadata": {},
   "outputs": [
    {
     "data": {
      "text/plain": [
       "264"
      ]
     },
     "execution_count": 55,
     "metadata": {},
     "output_type": "execute_result"
    }
   ],
   "source": [
    "len(GDP_copy_10['Country'].unique().tolist())"
   ]
  },
  {
   "cell_type": "code",
   "execution_count": 56,
   "metadata": {},
   "outputs": [
    {
     "data": {
      "text/plain": [
       "137"
      ]
     },
     "execution_count": 56,
     "metadata": {},
     "output_type": "execute_result"
    }
   ],
   "source": [
    "len(ScimEn['Country'].unique().tolist())"
   ]
  },
  {
   "cell_type": "code",
   "execution_count": 66,
   "metadata": {},
   "outputs": [],
   "source": [
    "df_r=energy_copy.merge(GDP_copy_10,on='Country',how='inner').merge(ScimEn,on='Country',how='inner')\n",
    "#df = pd.merge(pd.merge(energy, GDP, on='Country'), ScimEn, on='Country')\n"
   ]
  },
  {
   "cell_type": "code",
   "execution_count": 64,
   "metadata": {},
   "outputs": [],
   "source": [
    "df_r0=energy_copy.merge(GDP_copy_10,on='Country',how='outer').merge(ScimEn,on='Country',how='outer')\n"
   ]
  },
  {
   "cell_type": "code",
   "execution_count": 92,
   "metadata": {},
   "outputs": [],
   "source": [
    "df_r =df_r.set_index('Country')"
   ]
  },
  {
   "cell_type": "code",
   "execution_count": 93,
   "metadata": {},
   "outputs": [],
   "source": [
    "top_15 =df_r.copy()"
   ]
  },
  {
   "cell_type": "code",
   "execution_count": 94,
   "metadata": {},
   "outputs": [
    {
     "data": {
      "text/plain": [
       "(15, 20)"
      ]
     },
     "execution_count": 94,
     "metadata": {},
     "output_type": "execute_result"
    }
   ],
   "source": [
    "# Question 1\n",
    "top_15 = top_15.loc[df_r['Rank'].isin([1,2,3,4,5,6,7,8,9,10,11,12,13,14,15])]\n",
    "top_15= top_15.sort_values(by='Rank')\n",
    "top_15.shape"
   ]
  },
  {
   "cell_type": "code",
   "execution_count": 105,
   "metadata": {},
   "outputs": [
    {
     "data": {
      "text/html": [
       "<div>\n",
       "<style scoped>\n",
       "    .dataframe tbody tr th:only-of-type {\n",
       "        vertical-align: middle;\n",
       "    }\n",
       "\n",
       "    .dataframe tbody tr th {\n",
       "        vertical-align: top;\n",
       "    }\n",
       "\n",
       "    .dataframe thead th {\n",
       "        text-align: right;\n",
       "    }\n",
       "</style>\n",
       "<table border=\"1\" class=\"dataframe\">\n",
       "  <thead>\n",
       "    <tr style=\"text-align: right;\">\n",
       "      <th></th>\n",
       "      <th>Energy Supply</th>\n",
       "      <th>Energy Supply per Capita</th>\n",
       "      <th>% Renewable</th>\n",
       "      <th>2006</th>\n",
       "      <th>2007</th>\n",
       "      <th>2008</th>\n",
       "      <th>2009</th>\n",
       "      <th>2010</th>\n",
       "      <th>2011</th>\n",
       "      <th>2012</th>\n",
       "      <th>2013</th>\n",
       "      <th>2014</th>\n",
       "      <th>2015</th>\n",
       "      <th>Rank</th>\n",
       "      <th>Documents</th>\n",
       "      <th>Citable documents</th>\n",
       "      <th>Citations</th>\n",
       "      <th>Self-citations</th>\n",
       "      <th>Citations per document</th>\n",
       "      <th>H index</th>\n",
       "    </tr>\n",
       "    <tr>\n",
       "      <th>Country</th>\n",
       "      <th></th>\n",
       "      <th></th>\n",
       "      <th></th>\n",
       "      <th></th>\n",
       "      <th></th>\n",
       "      <th></th>\n",
       "      <th></th>\n",
       "      <th></th>\n",
       "      <th></th>\n",
       "      <th></th>\n",
       "      <th></th>\n",
       "      <th></th>\n",
       "      <th></th>\n",
       "      <th></th>\n",
       "      <th></th>\n",
       "      <th></th>\n",
       "      <th></th>\n",
       "      <th></th>\n",
       "      <th></th>\n",
       "      <th></th>\n",
       "    </tr>\n",
       "  </thead>\n",
       "  <tbody>\n",
       "    <tr>\n",
       "      <th>China</th>\n",
       "      <td>1.271910e+11</td>\n",
       "      <td>93.0</td>\n",
       "      <td>19.754910</td>\n",
       "      <td>2.752132e+12</td>\n",
       "      <td>3.552182e+12</td>\n",
       "      <td>4.598206e+12</td>\n",
       "      <td>5.109954e+12</td>\n",
       "      <td>6.100620e+12</td>\n",
       "      <td>7.572554e+12</td>\n",
       "      <td>8.560547e+12</td>\n",
       "      <td>9.607224e+12</td>\n",
       "      <td>1.048237e+13</td>\n",
       "      <td>1.106467e+13</td>\n",
       "      <td>1</td>\n",
       "      <td>14761</td>\n",
       "      <td>14708</td>\n",
       "      <td>73822</td>\n",
       "      <td>53600</td>\n",
       "      <td>5.00</td>\n",
       "      <td>176</td>\n",
       "    </tr>\n",
       "    <tr>\n",
       "      <th>United States</th>\n",
       "      <td>9.083800e+10</td>\n",
       "      <td>286.0</td>\n",
       "      <td>11.570980</td>\n",
       "      <td>1.385589e+13</td>\n",
       "      <td>1.447764e+13</td>\n",
       "      <td>1.471858e+13</td>\n",
       "      <td>1.441874e+13</td>\n",
       "      <td>1.496437e+13</td>\n",
       "      <td>1.551793e+13</td>\n",
       "      <td>1.615526e+13</td>\n",
       "      <td>1.669152e+13</td>\n",
       "      <td>1.742761e+13</td>\n",
       "      <td>1.812071e+13</td>\n",
       "      <td>2</td>\n",
       "      <td>8023</td>\n",
       "      <td>7707</td>\n",
       "      <td>36226</td>\n",
       "      <td>14058</td>\n",
       "      <td>4.52</td>\n",
       "      <td>278</td>\n",
       "    </tr>\n",
       "    <tr>\n",
       "      <th>India</th>\n",
       "      <td>3.319500e+10</td>\n",
       "      <td>26.0</td>\n",
       "      <td>14.969080</td>\n",
       "      <td>9.203165e+11</td>\n",
       "      <td>1.201112e+12</td>\n",
       "      <td>1.186953e+12</td>\n",
       "      <td>1.323940e+12</td>\n",
       "      <td>1.656617e+12</td>\n",
       "      <td>1.823050e+12</td>\n",
       "      <td>1.827638e+12</td>\n",
       "      <td>1.856722e+12</td>\n",
       "      <td>2.039127e+12</td>\n",
       "      <td>2.102391e+12</td>\n",
       "      <td>3</td>\n",
       "      <td>2387</td>\n",
       "      <td>2351</td>\n",
       "      <td>10166</td>\n",
       "      <td>3655</td>\n",
       "      <td>4.26</td>\n",
       "      <td>141</td>\n",
       "    </tr>\n",
       "    <tr>\n",
       "      <th>United Kingdom</th>\n",
       "      <td>7.920000e+09</td>\n",
       "      <td>124.0</td>\n",
       "      <td>10.600470</td>\n",
       "      <td>2.692613e+12</td>\n",
       "      <td>3.074360e+12</td>\n",
       "      <td>2.890564e+12</td>\n",
       "      <td>2.382826e+12</td>\n",
       "      <td>2.441173e+12</td>\n",
       "      <td>2.619700e+12</td>\n",
       "      <td>2.662085e+12</td>\n",
       "      <td>2.739819e+12</td>\n",
       "      <td>3.022828e+12</td>\n",
       "      <td>2.885570e+12</td>\n",
       "      <td>4</td>\n",
       "      <td>1964</td>\n",
       "      <td>1916</td>\n",
       "      <td>12200</td>\n",
       "      <td>3193</td>\n",
       "      <td>6.21</td>\n",
       "      <td>170</td>\n",
       "    </tr>\n",
       "    <tr>\n",
       "      <th>Germany</th>\n",
       "      <td>1.326100e+10</td>\n",
       "      <td>165.0</td>\n",
       "      <td>17.901530</td>\n",
       "      <td>3.002446e+12</td>\n",
       "      <td>3.439953e+12</td>\n",
       "      <td>3.752366e+12</td>\n",
       "      <td>3.418005e+12</td>\n",
       "      <td>3.417095e+12</td>\n",
       "      <td>3.757698e+12</td>\n",
       "      <td>3.543984e+12</td>\n",
       "      <td>3.752514e+12</td>\n",
       "      <td>3.890607e+12</td>\n",
       "      <td>3.375611e+12</td>\n",
       "      <td>5</td>\n",
       "      <td>1871</td>\n",
       "      <td>1824</td>\n",
       "      <td>8716</td>\n",
       "      <td>2699</td>\n",
       "      <td>4.66</td>\n",
       "      <td>151</td>\n",
       "    </tr>\n",
       "    <tr>\n",
       "      <th>Japan</th>\n",
       "      <td>1.898400e+10</td>\n",
       "      <td>149.0</td>\n",
       "      <td>10.232820</td>\n",
       "      <td>4.530377e+12</td>\n",
       "      <td>4.515265e+12</td>\n",
       "      <td>5.037908e+12</td>\n",
       "      <td>5.231383e+12</td>\n",
       "      <td>5.700098e+12</td>\n",
       "      <td>6.157460e+12</td>\n",
       "      <td>6.203213e+12</td>\n",
       "      <td>5.155717e+12</td>\n",
       "      <td>4.850414e+12</td>\n",
       "      <td>4.394978e+12</td>\n",
       "      <td>6</td>\n",
       "      <td>1714</td>\n",
       "      <td>1693</td>\n",
       "      <td>6002</td>\n",
       "      <td>1952</td>\n",
       "      <td>3.50</td>\n",
       "      <td>155</td>\n",
       "    </tr>\n",
       "    <tr>\n",
       "      <th>Canada</th>\n",
       "      <td>1.043100e+10</td>\n",
       "      <td>296.0</td>\n",
       "      <td>61.945430</td>\n",
       "      <td>1.315415e+12</td>\n",
       "      <td>1.464977e+12</td>\n",
       "      <td>1.549131e+12</td>\n",
       "      <td>1.371153e+12</td>\n",
       "      <td>1.613464e+12</td>\n",
       "      <td>1.788648e+12</td>\n",
       "      <td>1.824289e+12</td>\n",
       "      <td>1.842628e+12</td>\n",
       "      <td>1.799269e+12</td>\n",
       "      <td>1.559623e+12</td>\n",
       "      <td>7</td>\n",
       "      <td>1552</td>\n",
       "      <td>1516</td>\n",
       "      <td>8863</td>\n",
       "      <td>2320</td>\n",
       "      <td>5.71</td>\n",
       "      <td>177</td>\n",
       "    </tr>\n",
       "    <tr>\n",
       "      <th>Iran</th>\n",
       "      <td>9.172000e+09</td>\n",
       "      <td>119.0</td>\n",
       "      <td>5.707721</td>\n",
       "      <td>2.662989e+11</td>\n",
       "      <td>3.498816e+11</td>\n",
       "      <td>4.060709e+11</td>\n",
       "      <td>4.140591e+11</td>\n",
       "      <td>4.870696e+11</td>\n",
       "      <td>5.835004e+11</td>\n",
       "      <td>5.988534e+11</td>\n",
       "      <td>4.674149e+11</td>\n",
       "      <td>4.344746e+11</td>\n",
       "      <td>3.858745e+11</td>\n",
       "      <td>8</td>\n",
       "      <td>1389</td>\n",
       "      <td>1361</td>\n",
       "      <td>9284</td>\n",
       "      <td>3498</td>\n",
       "      <td>6.68</td>\n",
       "      <td>94</td>\n",
       "    </tr>\n",
       "    <tr>\n",
       "      <th>Italy</th>\n",
       "      <td>6.530000e+09</td>\n",
       "      <td>109.0</td>\n",
       "      <td>33.667230</td>\n",
       "      <td>1.942634e+12</td>\n",
       "      <td>2.203053e+12</td>\n",
       "      <td>2.390729e+12</td>\n",
       "      <td>2.185160e+12</td>\n",
       "      <td>2.125058e+12</td>\n",
       "      <td>2.276292e+12</td>\n",
       "      <td>2.072823e+12</td>\n",
       "      <td>2.130491e+12</td>\n",
       "      <td>2.151733e+12</td>\n",
       "      <td>1.832868e+12</td>\n",
       "      <td>9</td>\n",
       "      <td>1293</td>\n",
       "      <td>1243</td>\n",
       "      <td>8732</td>\n",
       "      <td>2878</td>\n",
       "      <td>6.75</td>\n",
       "      <td>127</td>\n",
       "    </tr>\n",
       "    <tr>\n",
       "      <th>Russian Federation</th>\n",
       "      <td>3.070900e+10</td>\n",
       "      <td>214.0</td>\n",
       "      <td>17.288680</td>\n",
       "      <td>9.899305e+11</td>\n",
       "      <td>1.299705e+12</td>\n",
       "      <td>1.660844e+12</td>\n",
       "      <td>1.222644e+12</td>\n",
       "      <td>1.524916e+12</td>\n",
       "      <td>2.051662e+12</td>\n",
       "      <td>2.210257e+12</td>\n",
       "      <td>2.297128e+12</td>\n",
       "      <td>2.063663e+12</td>\n",
       "      <td>1.368401e+12</td>\n",
       "      <td>10</td>\n",
       "      <td>1293</td>\n",
       "      <td>1288</td>\n",
       "      <td>2165</td>\n",
       "      <td>1382</td>\n",
       "      <td>1.67</td>\n",
       "      <td>69</td>\n",
       "    </tr>\n",
       "    <tr>\n",
       "      <th>Brazil</th>\n",
       "      <td>1.214900e+10</td>\n",
       "      <td>59.0</td>\n",
       "      <td>69.648030</td>\n",
       "      <td>1.107640e+12</td>\n",
       "      <td>1.397084e+12</td>\n",
       "      <td>1.695825e+12</td>\n",
       "      <td>1.667020e+12</td>\n",
       "      <td>2.208872e+12</td>\n",
       "      <td>2.616202e+12</td>\n",
       "      <td>2.465189e+12</td>\n",
       "      <td>2.472807e+12</td>\n",
       "      <td>2.455994e+12</td>\n",
       "      <td>1.802214e+12</td>\n",
       "      <td>11</td>\n",
       "      <td>1232</td>\n",
       "      <td>1228</td>\n",
       "      <td>3191</td>\n",
       "      <td>962</td>\n",
       "      <td>2.59</td>\n",
       "      <td>103</td>\n",
       "    </tr>\n",
       "    <tr>\n",
       "      <th>South Korea</th>\n",
       "      <td>1.100700e+10</td>\n",
       "      <td>221.0</td>\n",
       "      <td>2.279353</td>\n",
       "      <td>1.011797e+12</td>\n",
       "      <td>1.122679e+12</td>\n",
       "      <td>1.002219e+12</td>\n",
       "      <td>9.019350e+11</td>\n",
       "      <td>1.094499e+12</td>\n",
       "      <td>1.202464e+12</td>\n",
       "      <td>1.222807e+12</td>\n",
       "      <td>1.305605e+12</td>\n",
       "      <td>1.411334e+12</td>\n",
       "      <td>1.382764e+12</td>\n",
       "      <td>12</td>\n",
       "      <td>1191</td>\n",
       "      <td>1163</td>\n",
       "      <td>7839</td>\n",
       "      <td>1950</td>\n",
       "      <td>6.58</td>\n",
       "      <td>124</td>\n",
       "    </tr>\n",
       "    <tr>\n",
       "      <th>France</th>\n",
       "      <td>1.059700e+10</td>\n",
       "      <td>166.0</td>\n",
       "      <td>17.020280</td>\n",
       "      <td>2.318594e+12</td>\n",
       "      <td>2.657213e+12</td>\n",
       "      <td>2.918383e+12</td>\n",
       "      <td>2.690222e+12</td>\n",
       "      <td>2.642610e+12</td>\n",
       "      <td>2.861408e+12</td>\n",
       "      <td>2.683825e+12</td>\n",
       "      <td>2.811078e+12</td>\n",
       "      <td>2.852166e+12</td>\n",
       "      <td>2.438208e+12</td>\n",
       "      <td>13</td>\n",
       "      <td>1144</td>\n",
       "      <td>1116</td>\n",
       "      <td>5948</td>\n",
       "      <td>1418</td>\n",
       "      <td>5.20</td>\n",
       "      <td>139</td>\n",
       "    </tr>\n",
       "    <tr>\n",
       "      <th>Australia</th>\n",
       "      <td>5.386000e+09</td>\n",
       "      <td>231.0</td>\n",
       "      <td>11.810810</td>\n",
       "      <td>7.455219e+11</td>\n",
       "      <td>8.519628e+11</td>\n",
       "      <td>1.052585e+12</td>\n",
       "      <td>9.264482e+11</td>\n",
       "      <td>1.144261e+12</td>\n",
       "      <td>1.394281e+12</td>\n",
       "      <td>1.543411e+12</td>\n",
       "      <td>1.573697e+12</td>\n",
       "      <td>1.464955e+12</td>\n",
       "      <td>1.349034e+12</td>\n",
       "      <td>14</td>\n",
       "      <td>1115</td>\n",
       "      <td>1090</td>\n",
       "      <td>7407</td>\n",
       "      <td>1752</td>\n",
       "      <td>6.64</td>\n",
       "      <td>131</td>\n",
       "    </tr>\n",
       "    <tr>\n",
       "      <th>Spain</th>\n",
       "      <td>4.923000e+09</td>\n",
       "      <td>106.0</td>\n",
       "      <td>37.968590</td>\n",
       "      <td>1.264551e+12</td>\n",
       "      <td>1.479342e+12</td>\n",
       "      <td>1.635015e+12</td>\n",
       "      <td>1.499100e+12</td>\n",
       "      <td>1.431617e+12</td>\n",
       "      <td>1.488067e+12</td>\n",
       "      <td>1.336019e+12</td>\n",
       "      <td>1.361854e+12</td>\n",
       "      <td>1.376911e+12</td>\n",
       "      <td>1.197790e+12</td>\n",
       "      <td>15</td>\n",
       "      <td>988</td>\n",
       "      <td>974</td>\n",
       "      <td>7146</td>\n",
       "      <td>1805</td>\n",
       "      <td>7.23</td>\n",
       "      <td>138</td>\n",
       "    </tr>\n",
       "  </tbody>\n",
       "</table>\n",
       "</div>"
      ],
      "text/plain": [
       "                    Energy Supply  Energy Supply per Capita  % Renewable  \\\n",
       "Country                                                                    \n",
       "China                1.271910e+11                      93.0    19.754910   \n",
       "United States        9.083800e+10                     286.0    11.570980   \n",
       "India                3.319500e+10                      26.0    14.969080   \n",
       "United Kingdom       7.920000e+09                     124.0    10.600470   \n",
       "Germany              1.326100e+10                     165.0    17.901530   \n",
       "Japan                1.898400e+10                     149.0    10.232820   \n",
       "Canada               1.043100e+10                     296.0    61.945430   \n",
       "Iran                 9.172000e+09                     119.0     5.707721   \n",
       "Italy                6.530000e+09                     109.0    33.667230   \n",
       "Russian Federation   3.070900e+10                     214.0    17.288680   \n",
       "Brazil               1.214900e+10                      59.0    69.648030   \n",
       "South Korea          1.100700e+10                     221.0     2.279353   \n",
       "France               1.059700e+10                     166.0    17.020280   \n",
       "Australia            5.386000e+09                     231.0    11.810810   \n",
       "Spain                4.923000e+09                     106.0    37.968590   \n",
       "\n",
       "                            2006          2007          2008          2009  \\\n",
       "Country                                                                      \n",
       "China               2.752132e+12  3.552182e+12  4.598206e+12  5.109954e+12   \n",
       "United States       1.385589e+13  1.447764e+13  1.471858e+13  1.441874e+13   \n",
       "India               9.203165e+11  1.201112e+12  1.186953e+12  1.323940e+12   \n",
       "United Kingdom      2.692613e+12  3.074360e+12  2.890564e+12  2.382826e+12   \n",
       "Germany             3.002446e+12  3.439953e+12  3.752366e+12  3.418005e+12   \n",
       "Japan               4.530377e+12  4.515265e+12  5.037908e+12  5.231383e+12   \n",
       "Canada              1.315415e+12  1.464977e+12  1.549131e+12  1.371153e+12   \n",
       "Iran                2.662989e+11  3.498816e+11  4.060709e+11  4.140591e+11   \n",
       "Italy               1.942634e+12  2.203053e+12  2.390729e+12  2.185160e+12   \n",
       "Russian Federation  9.899305e+11  1.299705e+12  1.660844e+12  1.222644e+12   \n",
       "Brazil              1.107640e+12  1.397084e+12  1.695825e+12  1.667020e+12   \n",
       "South Korea         1.011797e+12  1.122679e+12  1.002219e+12  9.019350e+11   \n",
       "France              2.318594e+12  2.657213e+12  2.918383e+12  2.690222e+12   \n",
       "Australia           7.455219e+11  8.519628e+11  1.052585e+12  9.264482e+11   \n",
       "Spain               1.264551e+12  1.479342e+12  1.635015e+12  1.499100e+12   \n",
       "\n",
       "                            2010          2011          2012          2013  \\\n",
       "Country                                                                      \n",
       "China               6.100620e+12  7.572554e+12  8.560547e+12  9.607224e+12   \n",
       "United States       1.496437e+13  1.551793e+13  1.615526e+13  1.669152e+13   \n",
       "India               1.656617e+12  1.823050e+12  1.827638e+12  1.856722e+12   \n",
       "United Kingdom      2.441173e+12  2.619700e+12  2.662085e+12  2.739819e+12   \n",
       "Germany             3.417095e+12  3.757698e+12  3.543984e+12  3.752514e+12   \n",
       "Japan               5.700098e+12  6.157460e+12  6.203213e+12  5.155717e+12   \n",
       "Canada              1.613464e+12  1.788648e+12  1.824289e+12  1.842628e+12   \n",
       "Iran                4.870696e+11  5.835004e+11  5.988534e+11  4.674149e+11   \n",
       "Italy               2.125058e+12  2.276292e+12  2.072823e+12  2.130491e+12   \n",
       "Russian Federation  1.524916e+12  2.051662e+12  2.210257e+12  2.297128e+12   \n",
       "Brazil              2.208872e+12  2.616202e+12  2.465189e+12  2.472807e+12   \n",
       "South Korea         1.094499e+12  1.202464e+12  1.222807e+12  1.305605e+12   \n",
       "France              2.642610e+12  2.861408e+12  2.683825e+12  2.811078e+12   \n",
       "Australia           1.144261e+12  1.394281e+12  1.543411e+12  1.573697e+12   \n",
       "Spain               1.431617e+12  1.488067e+12  1.336019e+12  1.361854e+12   \n",
       "\n",
       "                            2014          2015  Rank  Documents  \\\n",
       "Country                                                           \n",
       "China               1.048237e+13  1.106467e+13     1      14761   \n",
       "United States       1.742761e+13  1.812071e+13     2       8023   \n",
       "India               2.039127e+12  2.102391e+12     3       2387   \n",
       "United Kingdom      3.022828e+12  2.885570e+12     4       1964   \n",
       "Germany             3.890607e+12  3.375611e+12     5       1871   \n",
       "Japan               4.850414e+12  4.394978e+12     6       1714   \n",
       "Canada              1.799269e+12  1.559623e+12     7       1552   \n",
       "Iran                4.344746e+11  3.858745e+11     8       1389   \n",
       "Italy               2.151733e+12  1.832868e+12     9       1293   \n",
       "Russian Federation  2.063663e+12  1.368401e+12    10       1293   \n",
       "Brazil              2.455994e+12  1.802214e+12    11       1232   \n",
       "South Korea         1.411334e+12  1.382764e+12    12       1191   \n",
       "France              2.852166e+12  2.438208e+12    13       1144   \n",
       "Australia           1.464955e+12  1.349034e+12    14       1115   \n",
       "Spain               1.376911e+12  1.197790e+12    15        988   \n",
       "\n",
       "                    Citable documents  Citations  Self-citations  \\\n",
       "Country                                                            \n",
       "China                           14708      73822           53600   \n",
       "United States                    7707      36226           14058   \n",
       "India                            2351      10166            3655   \n",
       "United Kingdom                   1916      12200            3193   \n",
       "Germany                          1824       8716            2699   \n",
       "Japan                            1693       6002            1952   \n",
       "Canada                           1516       8863            2320   \n",
       "Iran                             1361       9284            3498   \n",
       "Italy                            1243       8732            2878   \n",
       "Russian Federation               1288       2165            1382   \n",
       "Brazil                           1228       3191             962   \n",
       "South Korea                      1163       7839            1950   \n",
       "France                           1116       5948            1418   \n",
       "Australia                        1090       7407            1752   \n",
       "Spain                             974       7146            1805   \n",
       "\n",
       "                    Citations per document  H index  \n",
       "Country                                              \n",
       "China                                 5.00      176  \n",
       "United States                         4.52      278  \n",
       "India                                 4.26      141  \n",
       "United Kingdom                        6.21      170  \n",
       "Germany                               4.66      151  \n",
       "Japan                                 3.50      155  \n",
       "Canada                                5.71      177  \n",
       "Iran                                  6.68       94  \n",
       "Italy                                 6.75      127  \n",
       "Russian Federation                    1.67       69  \n",
       "Brazil                                2.59      103  \n",
       "South Korea                           6.58      124  \n",
       "France                                5.20      139  \n",
       "Australia                             6.64      131  \n",
       "Spain                                 7.23      138  "
      ]
     },
     "execution_count": 105,
     "metadata": {},
     "output_type": "execute_result"
    }
   ],
   "source": [
    "top_15"
   ]
  },
  {
   "cell_type": "code",
   "execution_count": 67,
   "metadata": {},
   "outputs": [
    {
     "data": {
      "text/plain": [
       "194"
      ]
     },
     "execution_count": 67,
     "metadata": {},
     "output_type": "execute_result"
    }
   ],
   "source": [
    "#Question2\n",
    "Question2=len(df_r0)-len(df_r)\n",
    "Question2"
   ]
  },
  {
   "cell_type": "code",
   "execution_count": 97,
   "metadata": {},
   "outputs": [
    {
     "data": {
      "text/plain": [
       "Country\n",
       "Iran                  4.393498e+11\n",
       "South Korea           1.165810e+12\n",
       "Australia             1.204616e+12\n",
       "Spain                 1.407027e+12\n",
       "India                 1.593787e+12\n",
       "Canada                1.612860e+12\n",
       "Russian Federation    1.668915e+12\n",
       "Brazil                1.988885e+12\n",
       "Italy                 2.131084e+12\n",
       "France                2.687371e+12\n",
       "United Kingdom        2.741154e+12\n",
       "Germany               3.535028e+12\n",
       "Japan                 5.177681e+12\n",
       "China                 6.940046e+12\n",
       "United States         1.563482e+13\n",
       "dtype: float64"
      ]
     },
     "execution_count": 97,
     "metadata": {},
     "output_type": "execute_result"
    }
   ],
   "source": [
    "#Question 3\n",
    "avgGDP = df_r_15.loc[:,'2006':'2015'].mean(axis=1).sort_values()\n",
    "df_r_15['avgGDP']= avgGDP \n",
    "avgGDP "
   ]
  },
  {
   "cell_type": "code",
   "execution_count": 101,
   "metadata": {},
   "outputs": [
    {
     "data": {
      "text/plain": [
       "244208195577.44995"
      ]
     },
     "execution_count": 101,
     "metadata": {},
     "output_type": "execute_result"
    }
   ],
   "source": [
    "#Qu4\n",
    "target = avgGDP.index[5]\n",
    "target_data = top_15.loc[target]\n",
    "target_data['2015'] - target_data['2006']"
   ]
  },
  {
   "cell_type": "code",
   "execution_count": 104,
   "metadata": {},
   "outputs": [
    {
     "data": {
      "text/plain": [
       "157.6"
      ]
     },
     "execution_count": 104,
     "metadata": {},
     "output_type": "execute_result"
    }
   ],
   "source": [
    "#qu5\n",
    "top_15['Energy Supply per Capita'].mean()"
   ]
  },
  {
   "cell_type": "code",
   "execution_count": 116,
   "metadata": {},
   "outputs": [],
   "source": [
    "#qu6\n",
    "index= top_15['% Renewable'].idxmax()\n",
    "value= top_15['% Renewable']"
   ]
  },
  {
   "cell_type": "code",
   "execution_count": 124,
   "metadata": {},
   "outputs": [
    {
     "data": {
      "text/plain": [
       "['China', 0.726070818997047]"
      ]
     },
     "execution_count": 124,
     "metadata": {},
     "output_type": "execute_result"
    }
   ],
   "source": [
    "#qu7\n",
    "top_15['ratio']=top_15['Self-citations']/top_15['Citations']\n",
    "\n",
    "# top_15['ratio'].idxmax()\n",
    "[top_15['ratio'].idxmax(),top_15['ratio'].max()]"
   ]
  },
  {
   "cell_type": "code",
   "execution_count": 140,
   "metadata": {},
   "outputs": [
    {
     "data": {
      "text/plain": [
       "'Spain'"
      ]
     },
     "execution_count": 140,
     "metadata": {},
     "output_type": "execute_result"
    }
   ],
   "source": [
    "#qu8\n",
    "top_15['Capita']=top_15['Energy Supply']/top_15['Energy Supply per Capita']\n",
    "third = top_15.sort_values(by='Capita').index[2]\n",
    "third\n"
   ]
  },
  {
   "cell_type": "code",
   "execution_count": 144,
   "metadata": {},
   "outputs": [
    {
     "data": {
      "text/plain": [
       "0.681743779712993"
      ]
     },
     "execution_count": 144,
     "metadata": {},
     "output_type": "execute_result"
    }
   ],
   "source": [
    "#qu9\n",
    "top_15['person']=top_15['Citable documents']/top_15['Capita']\n",
    "top_15['person'].corr(top_15['Energy Supply per Capita'])"
   ]
  },
  {
   "cell_type": "code",
   "execution_count": 158,
   "metadata": {},
   "outputs": [],
   "source": [
    "#qu10\n",
    "median =top_15['% Renewable'].sort_values(ascending=False).median()    \n",
    "top_15['HighRenew']= top_15['% Renewable'] > median\n",
    "top_15['HighRenew'] =top_15['HighRenew'].astype(int) \n",
    "# top_15['HighRenew']"
   ]
  },
  {
   "cell_type": "code",
   "execution_count": 159,
   "metadata": {},
   "outputs": [],
   "source": [
    "ContinentDict  = {'China':'Asia', \n",
    "                  'United States':'North America', \n",
    "                  'Japan':'Asia', \n",
    "                  'United Kingdom':'Europe', \n",
    "                  'Russian Federation':'Europe', \n",
    "                  'Canada':'North America', \n",
    "                  'Germany':'Europe', \n",
    "                  'India':'Asia',\n",
    "                  'France':'Europe', \n",
    "                  'South Korea':'Asia', \n",
    "                  'Italy':'Europe', \n",
    "                  'Spain':'Europe', \n",
    "                  'Iran':'Asia',\n",
    "                  'Australia':'Australia', \n",
    "                  'Brazil':'South America'}"
   ]
  },
  {
   "cell_type": "code",
   "execution_count": 181,
   "metadata": {},
   "outputs": [
    {
     "ename": "ValueError",
     "evalue": "If using all scalar values, you must pass an index",
     "output_type": "error",
     "traceback": [
      "\u001b[0;31m---------------------------------------------------------------------------\u001b[0m",
      "\u001b[0;31mValueError\u001b[0m                                Traceback (most recent call last)",
      "\u001b[0;32m<ipython-input-181-c375bbb06ffa>\u001b[0m in \u001b[0;36m<module>\u001b[0;34m()\u001b[0m\n\u001b[0;32m----> 1\u001b[0;31m \u001b[0mdf_pup\u001b[0m\u001b[0;34m=\u001b[0m \u001b[0mpd\u001b[0m\u001b[0;34m.\u001b[0m\u001b[0mDataFrame\u001b[0m\u001b[0;34m(\u001b[0m\u001b[0mContinentDict\u001b[0m\u001b[0;34m,\u001b[0m\u001b[0mindex\u001b[0m\u001b[0;34m=\u001b[0m\u001b[0;32mNone\u001b[0m\u001b[0;34m)\u001b[0m\u001b[0;34m\u001b[0m\u001b[0m\n\u001b[0m",
      "\u001b[0;32m~/conda/lib/python3.6/site-packages/pandas/core/frame.py\u001b[0m in \u001b[0;36m__init__\u001b[0;34m(self, data, index, columns, dtype, copy)\u001b[0m\n\u001b[1;32m    346\u001b[0m                                  dtype=dtype, copy=copy)\n\u001b[1;32m    347\u001b[0m         \u001b[0;32melif\u001b[0m \u001b[0misinstance\u001b[0m\u001b[0;34m(\u001b[0m\u001b[0mdata\u001b[0m\u001b[0;34m,\u001b[0m \u001b[0mdict\u001b[0m\u001b[0;34m)\u001b[0m\u001b[0;34m:\u001b[0m\u001b[0;34m\u001b[0m\u001b[0m\n\u001b[0;32m--> 348\u001b[0;31m             \u001b[0mmgr\u001b[0m \u001b[0;34m=\u001b[0m \u001b[0mself\u001b[0m\u001b[0;34m.\u001b[0m\u001b[0m_init_dict\u001b[0m\u001b[0;34m(\u001b[0m\u001b[0mdata\u001b[0m\u001b[0;34m,\u001b[0m \u001b[0mindex\u001b[0m\u001b[0;34m,\u001b[0m \u001b[0mcolumns\u001b[0m\u001b[0;34m,\u001b[0m \u001b[0mdtype\u001b[0m\u001b[0;34m=\u001b[0m\u001b[0mdtype\u001b[0m\u001b[0;34m)\u001b[0m\u001b[0;34m\u001b[0m\u001b[0m\n\u001b[0m\u001b[1;32m    349\u001b[0m         \u001b[0;32melif\u001b[0m \u001b[0misinstance\u001b[0m\u001b[0;34m(\u001b[0m\u001b[0mdata\u001b[0m\u001b[0;34m,\u001b[0m \u001b[0mma\u001b[0m\u001b[0;34m.\u001b[0m\u001b[0mMaskedArray\u001b[0m\u001b[0;34m)\u001b[0m\u001b[0;34m:\u001b[0m\u001b[0;34m\u001b[0m\u001b[0m\n\u001b[1;32m    350\u001b[0m             \u001b[0;32mimport\u001b[0m \u001b[0mnumpy\u001b[0m\u001b[0;34m.\u001b[0m\u001b[0mma\u001b[0m\u001b[0;34m.\u001b[0m\u001b[0mmrecords\u001b[0m \u001b[0;32mas\u001b[0m \u001b[0mmrecords\u001b[0m\u001b[0;34m\u001b[0m\u001b[0m\n",
      "\u001b[0;32m~/conda/lib/python3.6/site-packages/pandas/core/frame.py\u001b[0m in \u001b[0;36m_init_dict\u001b[0;34m(self, data, index, columns, dtype)\u001b[0m\n\u001b[1;32m    457\u001b[0m             \u001b[0marrays\u001b[0m \u001b[0;34m=\u001b[0m \u001b[0;34m[\u001b[0m\u001b[0mdata\u001b[0m\u001b[0;34m[\u001b[0m\u001b[0mk\u001b[0m\u001b[0;34m]\u001b[0m \u001b[0;32mfor\u001b[0m \u001b[0mk\u001b[0m \u001b[0;32min\u001b[0m \u001b[0mkeys\u001b[0m\u001b[0;34m]\u001b[0m\u001b[0;34m\u001b[0m\u001b[0m\n\u001b[1;32m    458\u001b[0m \u001b[0;34m\u001b[0m\u001b[0m\n\u001b[0;32m--> 459\u001b[0;31m         \u001b[0;32mreturn\u001b[0m \u001b[0m_arrays_to_mgr\u001b[0m\u001b[0;34m(\u001b[0m\u001b[0marrays\u001b[0m\u001b[0;34m,\u001b[0m \u001b[0mdata_names\u001b[0m\u001b[0;34m,\u001b[0m \u001b[0mindex\u001b[0m\u001b[0;34m,\u001b[0m \u001b[0mcolumns\u001b[0m\u001b[0;34m,\u001b[0m \u001b[0mdtype\u001b[0m\u001b[0;34m=\u001b[0m\u001b[0mdtype\u001b[0m\u001b[0;34m)\u001b[0m\u001b[0;34m\u001b[0m\u001b[0m\n\u001b[0m\u001b[1;32m    460\u001b[0m \u001b[0;34m\u001b[0m\u001b[0m\n\u001b[1;32m    461\u001b[0m     \u001b[0;32mdef\u001b[0m \u001b[0m_init_ndarray\u001b[0m\u001b[0;34m(\u001b[0m\u001b[0mself\u001b[0m\u001b[0;34m,\u001b[0m \u001b[0mvalues\u001b[0m\u001b[0;34m,\u001b[0m \u001b[0mindex\u001b[0m\u001b[0;34m,\u001b[0m \u001b[0mcolumns\u001b[0m\u001b[0;34m,\u001b[0m \u001b[0mdtype\u001b[0m\u001b[0;34m=\u001b[0m\u001b[0;32mNone\u001b[0m\u001b[0;34m,\u001b[0m \u001b[0mcopy\u001b[0m\u001b[0;34m=\u001b[0m\u001b[0;32mFalse\u001b[0m\u001b[0;34m)\u001b[0m\u001b[0;34m:\u001b[0m\u001b[0;34m\u001b[0m\u001b[0m\n",
      "\u001b[0;32m~/conda/lib/python3.6/site-packages/pandas/core/frame.py\u001b[0m in \u001b[0;36m_arrays_to_mgr\u001b[0;34m(arrays, arr_names, index, columns, dtype)\u001b[0m\n\u001b[1;32m   7313\u001b[0m     \u001b[0;31m# figure out the index, if necessary\u001b[0m\u001b[0;34m\u001b[0m\u001b[0;34m\u001b[0m\u001b[0m\n\u001b[1;32m   7314\u001b[0m     \u001b[0;32mif\u001b[0m \u001b[0mindex\u001b[0m \u001b[0;32mis\u001b[0m \u001b[0;32mNone\u001b[0m\u001b[0;34m:\u001b[0m\u001b[0;34m\u001b[0m\u001b[0m\n\u001b[0;32m-> 7315\u001b[0;31m         \u001b[0mindex\u001b[0m \u001b[0;34m=\u001b[0m \u001b[0mextract_index\u001b[0m\u001b[0;34m(\u001b[0m\u001b[0marrays\u001b[0m\u001b[0;34m)\u001b[0m\u001b[0;34m\u001b[0m\u001b[0m\n\u001b[0m\u001b[1;32m   7316\u001b[0m \u001b[0;34m\u001b[0m\u001b[0m\n\u001b[1;32m   7317\u001b[0m     \u001b[0;31m# don't force copy because getting jammed in an ndarray anyway\u001b[0m\u001b[0;34m\u001b[0m\u001b[0;34m\u001b[0m\u001b[0m\n",
      "\u001b[0;32m~/conda/lib/python3.6/site-packages/pandas/core/frame.py\u001b[0m in \u001b[0;36mextract_index\u001b[0;34m(data)\u001b[0m\n\u001b[1;32m   7350\u001b[0m \u001b[0;34m\u001b[0m\u001b[0m\n\u001b[1;32m   7351\u001b[0m         \u001b[0;32mif\u001b[0m \u001b[0;32mnot\u001b[0m \u001b[0mindexes\u001b[0m \u001b[0;32mand\u001b[0m \u001b[0;32mnot\u001b[0m \u001b[0mraw_lengths\u001b[0m\u001b[0;34m:\u001b[0m\u001b[0;34m\u001b[0m\u001b[0m\n\u001b[0;32m-> 7352\u001b[0;31m             raise ValueError('If using all scalar values, you must pass'\n\u001b[0m\u001b[1;32m   7353\u001b[0m                              ' an index')\n\u001b[1;32m   7354\u001b[0m \u001b[0;34m\u001b[0m\u001b[0m\n",
      "\u001b[0;31mValueError\u001b[0m: If using all scalar values, you must pass an index"
     ]
    }
   ],
   "source": [
    "df_pup= pd.DataFrame(ContinentDict,index=None)\n"
   ]
  },
  {
   "cell_type": "code",
   "execution_count": 178,
   "metadata": {},
   "outputs": [
    {
     "ename": "KeyError",
     "evalue": "'Country'",
     "output_type": "error",
     "traceback": [
      "\u001b[0;31m---------------------------------------------------------------------------\u001b[0m",
      "\u001b[0;31mKeyError\u001b[0m                                  Traceback (most recent call last)",
      "\u001b[0;32m~/conda/lib/python3.6/site-packages/pandas/core/indexes/base.py\u001b[0m in \u001b[0;36mget_loc\u001b[0;34m(self, key, method, tolerance)\u001b[0m\n\u001b[1;32m   3062\u001b[0m             \u001b[0;32mtry\u001b[0m\u001b[0;34m:\u001b[0m\u001b[0;34m\u001b[0m\u001b[0m\n\u001b[0;32m-> 3063\u001b[0;31m                 \u001b[0;32mreturn\u001b[0m \u001b[0mself\u001b[0m\u001b[0;34m.\u001b[0m\u001b[0m_engine\u001b[0m\u001b[0;34m.\u001b[0m\u001b[0mget_loc\u001b[0m\u001b[0;34m(\u001b[0m\u001b[0mkey\u001b[0m\u001b[0;34m)\u001b[0m\u001b[0;34m\u001b[0m\u001b[0m\n\u001b[0m\u001b[1;32m   3064\u001b[0m             \u001b[0;32mexcept\u001b[0m \u001b[0mKeyError\u001b[0m\u001b[0;34m:\u001b[0m\u001b[0;34m\u001b[0m\u001b[0m\n",
      "\u001b[0;32mpandas/_libs/index.pyx\u001b[0m in \u001b[0;36mpandas._libs.index.IndexEngine.get_loc\u001b[0;34m()\u001b[0m\n",
      "\u001b[0;32mpandas/_libs/index.pyx\u001b[0m in \u001b[0;36mpandas._libs.index.IndexEngine.get_loc\u001b[0;34m()\u001b[0m\n",
      "\u001b[0;32mpandas/_libs/hashtable_class_helper.pxi\u001b[0m in \u001b[0;36mpandas._libs.hashtable.PyObjectHashTable.get_item\u001b[0;34m()\u001b[0m\n",
      "\u001b[0;32mpandas/_libs/hashtable_class_helper.pxi\u001b[0m in \u001b[0;36mpandas._libs.hashtable.PyObjectHashTable.get_item\u001b[0;34m()\u001b[0m\n",
      "\u001b[0;31mKeyError\u001b[0m: 'Country'",
      "\nDuring handling of the above exception, another exception occurred:\n",
      "\u001b[0;31mKeyError\u001b[0m                                  Traceback (most recent call last)",
      "\u001b[0;32m<ipython-input-178-4c8fac77079c>\u001b[0m in \u001b[0;36m<module>\u001b[0;34m()\u001b[0m\n\u001b[1;32m      1\u001b[0m \u001b[0mdf_pup_copy\u001b[0m\u001b[0;34m=\u001b[0m\u001b[0mdf_pup\u001b[0m\u001b[0;34m.\u001b[0m\u001b[0mcopy\u001b[0m\u001b[0;34m(\u001b[0m\u001b[0;34m)\u001b[0m\u001b[0;34m\u001b[0m\u001b[0m\n\u001b[1;32m      2\u001b[0m \u001b[0mdf_pup_copy\u001b[0m\u001b[0;34m.\u001b[0m\u001b[0mset_index\u001b[0m\u001b[0;34m(\u001b[0m\u001b[0;36m0\u001b[0m\u001b[0;34m)\u001b[0m\u001b[0;34m\u001b[0m\u001b[0m\n\u001b[0;32m----> 3\u001b[0;31m \u001b[0mdf_pup_copy\u001b[0m\u001b[0;34m[\u001b[0m\u001b[0;34m'country'\u001b[0m\u001b[0;34m]\u001b[0m\u001b[0;34m=\u001b[0m\u001b[0mtop_15\u001b[0m\u001b[0;34m[\u001b[0m\u001b[0;34m'Country'\u001b[0m\u001b[0;34m]\u001b[0m\u001b[0;34m\u001b[0m\u001b[0m\n\u001b[0m",
      "\u001b[0;32m~/conda/lib/python3.6/site-packages/pandas/core/frame.py\u001b[0m in \u001b[0;36m__getitem__\u001b[0;34m(self, key)\u001b[0m\n\u001b[1;32m   2683\u001b[0m             \u001b[0;32mreturn\u001b[0m \u001b[0mself\u001b[0m\u001b[0;34m.\u001b[0m\u001b[0m_getitem_multilevel\u001b[0m\u001b[0;34m(\u001b[0m\u001b[0mkey\u001b[0m\u001b[0;34m)\u001b[0m\u001b[0;34m\u001b[0m\u001b[0m\n\u001b[1;32m   2684\u001b[0m         \u001b[0;32melse\u001b[0m\u001b[0;34m:\u001b[0m\u001b[0;34m\u001b[0m\u001b[0m\n\u001b[0;32m-> 2685\u001b[0;31m             \u001b[0;32mreturn\u001b[0m \u001b[0mself\u001b[0m\u001b[0;34m.\u001b[0m\u001b[0m_getitem_column\u001b[0m\u001b[0;34m(\u001b[0m\u001b[0mkey\u001b[0m\u001b[0;34m)\u001b[0m\u001b[0;34m\u001b[0m\u001b[0m\n\u001b[0m\u001b[1;32m   2686\u001b[0m \u001b[0;34m\u001b[0m\u001b[0m\n\u001b[1;32m   2687\u001b[0m     \u001b[0;32mdef\u001b[0m \u001b[0m_getitem_column\u001b[0m\u001b[0;34m(\u001b[0m\u001b[0mself\u001b[0m\u001b[0;34m,\u001b[0m \u001b[0mkey\u001b[0m\u001b[0;34m)\u001b[0m\u001b[0;34m:\u001b[0m\u001b[0;34m\u001b[0m\u001b[0m\n",
      "\u001b[0;32m~/conda/lib/python3.6/site-packages/pandas/core/frame.py\u001b[0m in \u001b[0;36m_getitem_column\u001b[0;34m(self, key)\u001b[0m\n\u001b[1;32m   2690\u001b[0m         \u001b[0;31m# get column\u001b[0m\u001b[0;34m\u001b[0m\u001b[0;34m\u001b[0m\u001b[0m\n\u001b[1;32m   2691\u001b[0m         \u001b[0;32mif\u001b[0m \u001b[0mself\u001b[0m\u001b[0;34m.\u001b[0m\u001b[0mcolumns\u001b[0m\u001b[0;34m.\u001b[0m\u001b[0mis_unique\u001b[0m\u001b[0;34m:\u001b[0m\u001b[0;34m\u001b[0m\u001b[0m\n\u001b[0;32m-> 2692\u001b[0;31m             \u001b[0;32mreturn\u001b[0m \u001b[0mself\u001b[0m\u001b[0;34m.\u001b[0m\u001b[0m_get_item_cache\u001b[0m\u001b[0;34m(\u001b[0m\u001b[0mkey\u001b[0m\u001b[0;34m)\u001b[0m\u001b[0;34m\u001b[0m\u001b[0m\n\u001b[0m\u001b[1;32m   2693\u001b[0m \u001b[0;34m\u001b[0m\u001b[0m\n\u001b[1;32m   2694\u001b[0m         \u001b[0;31m# duplicate columns & possible reduce dimensionality\u001b[0m\u001b[0;34m\u001b[0m\u001b[0;34m\u001b[0m\u001b[0m\n",
      "\u001b[0;32m~/conda/lib/python3.6/site-packages/pandas/core/generic.py\u001b[0m in \u001b[0;36m_get_item_cache\u001b[0;34m(self, item)\u001b[0m\n\u001b[1;32m   2484\u001b[0m         \u001b[0mres\u001b[0m \u001b[0;34m=\u001b[0m \u001b[0mcache\u001b[0m\u001b[0;34m.\u001b[0m\u001b[0mget\u001b[0m\u001b[0;34m(\u001b[0m\u001b[0mitem\u001b[0m\u001b[0;34m)\u001b[0m\u001b[0;34m\u001b[0m\u001b[0m\n\u001b[1;32m   2485\u001b[0m         \u001b[0;32mif\u001b[0m \u001b[0mres\u001b[0m \u001b[0;32mis\u001b[0m \u001b[0;32mNone\u001b[0m\u001b[0;34m:\u001b[0m\u001b[0;34m\u001b[0m\u001b[0m\n\u001b[0;32m-> 2486\u001b[0;31m             \u001b[0mvalues\u001b[0m \u001b[0;34m=\u001b[0m \u001b[0mself\u001b[0m\u001b[0;34m.\u001b[0m\u001b[0m_data\u001b[0m\u001b[0;34m.\u001b[0m\u001b[0mget\u001b[0m\u001b[0;34m(\u001b[0m\u001b[0mitem\u001b[0m\u001b[0;34m)\u001b[0m\u001b[0;34m\u001b[0m\u001b[0m\n\u001b[0m\u001b[1;32m   2487\u001b[0m             \u001b[0mres\u001b[0m \u001b[0;34m=\u001b[0m \u001b[0mself\u001b[0m\u001b[0;34m.\u001b[0m\u001b[0m_box_item_values\u001b[0m\u001b[0;34m(\u001b[0m\u001b[0mitem\u001b[0m\u001b[0;34m,\u001b[0m \u001b[0mvalues\u001b[0m\u001b[0;34m)\u001b[0m\u001b[0;34m\u001b[0m\u001b[0m\n\u001b[1;32m   2488\u001b[0m             \u001b[0mcache\u001b[0m\u001b[0;34m[\u001b[0m\u001b[0mitem\u001b[0m\u001b[0;34m]\u001b[0m \u001b[0;34m=\u001b[0m \u001b[0mres\u001b[0m\u001b[0;34m\u001b[0m\u001b[0m\n",
      "\u001b[0;32m~/conda/lib/python3.6/site-packages/pandas/core/internals.py\u001b[0m in \u001b[0;36mget\u001b[0;34m(self, item, fastpath)\u001b[0m\n\u001b[1;32m   4113\u001b[0m \u001b[0;34m\u001b[0m\u001b[0m\n\u001b[1;32m   4114\u001b[0m             \u001b[0;32mif\u001b[0m \u001b[0;32mnot\u001b[0m \u001b[0misna\u001b[0m\u001b[0;34m(\u001b[0m\u001b[0mitem\u001b[0m\u001b[0;34m)\u001b[0m\u001b[0;34m:\u001b[0m\u001b[0;34m\u001b[0m\u001b[0m\n\u001b[0;32m-> 4115\u001b[0;31m                 \u001b[0mloc\u001b[0m \u001b[0;34m=\u001b[0m \u001b[0mself\u001b[0m\u001b[0;34m.\u001b[0m\u001b[0mitems\u001b[0m\u001b[0;34m.\u001b[0m\u001b[0mget_loc\u001b[0m\u001b[0;34m(\u001b[0m\u001b[0mitem\u001b[0m\u001b[0;34m)\u001b[0m\u001b[0;34m\u001b[0m\u001b[0m\n\u001b[0m\u001b[1;32m   4116\u001b[0m             \u001b[0;32melse\u001b[0m\u001b[0;34m:\u001b[0m\u001b[0;34m\u001b[0m\u001b[0m\n\u001b[1;32m   4117\u001b[0m                 \u001b[0mindexer\u001b[0m \u001b[0;34m=\u001b[0m \u001b[0mnp\u001b[0m\u001b[0;34m.\u001b[0m\u001b[0marange\u001b[0m\u001b[0;34m(\u001b[0m\u001b[0mlen\u001b[0m\u001b[0;34m(\u001b[0m\u001b[0mself\u001b[0m\u001b[0;34m.\u001b[0m\u001b[0mitems\u001b[0m\u001b[0;34m)\u001b[0m\u001b[0;34m)\u001b[0m\u001b[0;34m[\u001b[0m\u001b[0misna\u001b[0m\u001b[0;34m(\u001b[0m\u001b[0mself\u001b[0m\u001b[0;34m.\u001b[0m\u001b[0mitems\u001b[0m\u001b[0;34m)\u001b[0m\u001b[0;34m]\u001b[0m\u001b[0;34m\u001b[0m\u001b[0m\n",
      "\u001b[0;32m~/conda/lib/python3.6/site-packages/pandas/core/indexes/base.py\u001b[0m in \u001b[0;36mget_loc\u001b[0;34m(self, key, method, tolerance)\u001b[0m\n\u001b[1;32m   3063\u001b[0m                 \u001b[0;32mreturn\u001b[0m \u001b[0mself\u001b[0m\u001b[0;34m.\u001b[0m\u001b[0m_engine\u001b[0m\u001b[0;34m.\u001b[0m\u001b[0mget_loc\u001b[0m\u001b[0;34m(\u001b[0m\u001b[0mkey\u001b[0m\u001b[0;34m)\u001b[0m\u001b[0;34m\u001b[0m\u001b[0m\n\u001b[1;32m   3064\u001b[0m             \u001b[0;32mexcept\u001b[0m \u001b[0mKeyError\u001b[0m\u001b[0;34m:\u001b[0m\u001b[0;34m\u001b[0m\u001b[0m\n\u001b[0;32m-> 3065\u001b[0;31m                 \u001b[0;32mreturn\u001b[0m \u001b[0mself\u001b[0m\u001b[0;34m.\u001b[0m\u001b[0m_engine\u001b[0m\u001b[0;34m.\u001b[0m\u001b[0mget_loc\u001b[0m\u001b[0;34m(\u001b[0m\u001b[0mself\u001b[0m\u001b[0;34m.\u001b[0m\u001b[0m_maybe_cast_indexer\u001b[0m\u001b[0;34m(\u001b[0m\u001b[0mkey\u001b[0m\u001b[0;34m)\u001b[0m\u001b[0;34m)\u001b[0m\u001b[0;34m\u001b[0m\u001b[0m\n\u001b[0m\u001b[1;32m   3066\u001b[0m \u001b[0;34m\u001b[0m\u001b[0m\n\u001b[1;32m   3067\u001b[0m         \u001b[0mindexer\u001b[0m \u001b[0;34m=\u001b[0m \u001b[0mself\u001b[0m\u001b[0;34m.\u001b[0m\u001b[0mget_indexer\u001b[0m\u001b[0;34m(\u001b[0m\u001b[0;34m[\u001b[0m\u001b[0mkey\u001b[0m\u001b[0;34m]\u001b[0m\u001b[0;34m,\u001b[0m \u001b[0mmethod\u001b[0m\u001b[0;34m=\u001b[0m\u001b[0mmethod\u001b[0m\u001b[0;34m,\u001b[0m \u001b[0mtolerance\u001b[0m\u001b[0;34m=\u001b[0m\u001b[0mtolerance\u001b[0m\u001b[0;34m)\u001b[0m\u001b[0;34m\u001b[0m\u001b[0m\n",
      "\u001b[0;32mpandas/_libs/index.pyx\u001b[0m in \u001b[0;36mpandas._libs.index.IndexEngine.get_loc\u001b[0;34m()\u001b[0m\n",
      "\u001b[0;32mpandas/_libs/index.pyx\u001b[0m in \u001b[0;36mpandas._libs.index.IndexEngine.get_loc\u001b[0;34m()\u001b[0m\n",
      "\u001b[0;32mpandas/_libs/hashtable_class_helper.pxi\u001b[0m in \u001b[0;36mpandas._libs.hashtable.PyObjectHashTable.get_item\u001b[0;34m()\u001b[0m\n",
      "\u001b[0;32mpandas/_libs/hashtable_class_helper.pxi\u001b[0m in \u001b[0;36mpandas._libs.hashtable.PyObjectHashTable.get_item\u001b[0;34m()\u001b[0m\n",
      "\u001b[0;31mKeyError\u001b[0m: 'Country'"
     ]
    }
   ],
   "source": [
    "df_pup_copy=df_pup.copy()\n",
    "df_pup_copy.set_index(0)\n",
    "df_pup_copy['country']=top_15['Country']"
   ]
  },
  {
   "cell_type": "code",
   "execution_count": null,
   "metadata": {},
   "outputs": [],
   "source": []
  }
 ],
 "metadata": {
  "kernelspec": {
   "display_name": "Python 3",
   "language": "python",
   "name": "python3"
  },
  "language_info": {
   "codemirror_mode": {
    "name": "ipython",
    "version": 3
   },
   "file_extension": ".py",
   "mimetype": "text/x-python",
   "name": "python",
   "nbconvert_exporter": "python",
   "pygments_lexer": "ipython3",
   "version": "3.6.5"
  }
 },
 "nbformat": 4,
 "nbformat_minor": 2
}
