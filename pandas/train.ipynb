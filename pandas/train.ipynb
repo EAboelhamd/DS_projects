{
 "cells": [
  {
   "cell_type": "markdown",
   "metadata": {},
   "source": [
    "<h3>Import Pandas lib</h3>"
   ]
  },
  {
   "cell_type": "code",
   "execution_count": 1,
   "metadata": {},
   "outputs": [],
   "source": [
    "import pandas as pd\n"
   ]
  },
  {
   "cell_type": "markdown",
   "metadata": {},
   "source": [
    "<h3>Read the Data format Csv</h3>"
   ]
  },
  {
   "cell_type": "code",
   "execution_count": 4,
   "metadata": {},
   "outputs": [],
   "source": [
    "train = pd.read_csv('C:/Users/Doaa95/Desktop/train.csv',sep=',',dtype={'fullVisitorId':str})\n",
    "#C:/Users/Doaa95/Desktop\n",
    "## Note\n",
    "#dtype={'fullVisitorId':str} ->>fixed the problem DtypeWarning"
   ]
  },
  {
   "cell_type": "markdown",
   "metadata": {},
   "source": [
    "## Check dataset info"
   ]
  },
  {
   "cell_type": "code",
   "execution_count": 7,
   "metadata": {},
   "outputs": [
    {
     "data": {
      "text/plain": [
       "channelGrouping         object\n",
       "date                     int64\n",
       "device                  object\n",
       "fullVisitorId           object\n",
       "geoNetwork              object\n",
       "sessionId               object\n",
       "socialEngagementType    object\n",
       "totals                  object\n",
       "trafficSource           object\n",
       "visitId                  int64\n",
       "visitNumber              int64\n",
       "visitStartTime           int64\n",
       "dtype: object"
      ]
     },
     "execution_count": 7,
     "metadata": {},
     "output_type": "execute_result"
    }
   ],
   "source": [
    "df.dtypes"
   ]
  },
  {
   "cell_type": "code",
   "execution_count": 20,
   "metadata": {},
   "outputs": [
    {
     "data": {
      "text/plain": [
       "(903653, 12)"
      ]
     },
     "execution_count": 20,
     "metadata": {},
     "output_type": "execute_result"
    }
   ],
   "source": [
    "train.shape\n"
   ]
  },
  {
   "cell_type": "markdown",
   "metadata": {},
   "source": [
    "** 12 columns and 903653 rows **"
   ]
  },
  {
   "cell_type": "markdown",
   "metadata": {},
   "source": [
    "<h3>check null value</h3>"
   ]
  },
  {
   "cell_type": "code",
   "execution_count": 21,
   "metadata": {},
   "outputs": [
    {
     "data": {
      "text/plain": [
       "channelGrouping         False\n",
       "date                    False\n",
       "device                  False\n",
       "fullVisitorId           False\n",
       "geoNetwork              False\n",
       "sessionId               False\n",
       "socialEngagementType    False\n",
       "totals                  False\n",
       "trafficSource           False\n",
       "visitId                 False\n",
       "visitNumber             False\n",
       "visitStartTime          False\n",
       "dtype: bool"
      ]
     },
     "execution_count": 21,
     "metadata": {},
     "output_type": "execute_result"
    }
   ],
   "source": [
    "train.isnull().any()"
   ]
  },
  {
   "cell_type": "markdown",
   "metadata": {},
   "source": [
    "<h4>Thayt's nice don't have null value</h4>"
   ]
  },
  {
   "cell_type": "markdown",
   "metadata": {},
   "source": [
    "## notes"
   ]
  },
  {
   "cell_type": "markdown",
   "metadata": {},
   "source": [
    "** Date Format in object need to change to date**\n",
    "<br>\n",
    "** ['device','totals','trafficSource','geoNetwork'] json format **"
   ]
  },
  {
   "cell_type": "markdown",
   "metadata": {},
   "source": [
    "<h3>Return first five Row</h3>"
   ]
  },
  {
   "cell_type": "code",
   "execution_count": 4,
   "metadata": {},
   "outputs": [
    {
     "data": {
      "text/html": [
       "<div>\n",
       "<style scoped>\n",
       "    .dataframe tbody tr th:only-of-type {\n",
       "        vertical-align: middle;\n",
       "    }\n",
       "\n",
       "    .dataframe tbody tr th {\n",
       "        vertical-align: top;\n",
       "    }\n",
       "\n",
       "    .dataframe thead th {\n",
       "        text-align: right;\n",
       "    }\n",
       "</style>\n",
       "<table border=\"1\" class=\"dataframe\">\n",
       "  <thead>\n",
       "    <tr style=\"text-align: right;\">\n",
       "      <th></th>\n",
       "      <th>channelGrouping</th>\n",
       "      <th>date</th>\n",
       "      <th>device</th>\n",
       "      <th>fullVisitorId</th>\n",
       "      <th>geoNetwork</th>\n",
       "      <th>sessionId</th>\n",
       "      <th>socialEngagementType</th>\n",
       "      <th>totals</th>\n",
       "      <th>trafficSource</th>\n",
       "      <th>visitId</th>\n",
       "      <th>visitNumber</th>\n",
       "      <th>visitStartTime</th>\n",
       "    </tr>\n",
       "  </thead>\n",
       "  <tbody>\n",
       "    <tr>\n",
       "      <th>0</th>\n",
       "      <td>Organic Search</td>\n",
       "      <td>20160902</td>\n",
       "      <td>{\"browser\": \"Chrome\", \"browserVersion\": \"not a...</td>\n",
       "      <td>1131660440785968503</td>\n",
       "      <td>{\"continent\": \"Asia\", \"subContinent\": \"Western...</td>\n",
       "      <td>1131660440785968503_1472830385</td>\n",
       "      <td>Not Socially Engaged</td>\n",
       "      <td>{\"visits\": \"1\", \"hits\": \"1\", \"pageviews\": \"1\",...</td>\n",
       "      <td>{\"campaign\": \"(not set)\", \"source\": \"google\", ...</td>\n",
       "      <td>1472830385</td>\n",
       "      <td>1</td>\n",
       "      <td>1472830385</td>\n",
       "    </tr>\n",
       "    <tr>\n",
       "      <th>1</th>\n",
       "      <td>Organic Search</td>\n",
       "      <td>20160902</td>\n",
       "      <td>{\"browser\": \"Firefox\", \"browserVersion\": \"not ...</td>\n",
       "      <td>377306020877927890</td>\n",
       "      <td>{\"continent\": \"Oceania\", \"subContinent\": \"Aust...</td>\n",
       "      <td>377306020877927890_1472880147</td>\n",
       "      <td>Not Socially Engaged</td>\n",
       "      <td>{\"visits\": \"1\", \"hits\": \"1\", \"pageviews\": \"1\",...</td>\n",
       "      <td>{\"campaign\": \"(not set)\", \"source\": \"google\", ...</td>\n",
       "      <td>1472880147</td>\n",
       "      <td>1</td>\n",
       "      <td>1472880147</td>\n",
       "    </tr>\n",
       "    <tr>\n",
       "      <th>2</th>\n",
       "      <td>Organic Search</td>\n",
       "      <td>20160902</td>\n",
       "      <td>{\"browser\": \"Chrome\", \"browserVersion\": \"not a...</td>\n",
       "      <td>3895546263509774583</td>\n",
       "      <td>{\"continent\": \"Europe\", \"subContinent\": \"South...</td>\n",
       "      <td>3895546263509774583_1472865386</td>\n",
       "      <td>Not Socially Engaged</td>\n",
       "      <td>{\"visits\": \"1\", \"hits\": \"1\", \"pageviews\": \"1\",...</td>\n",
       "      <td>{\"campaign\": \"(not set)\", \"source\": \"google\", ...</td>\n",
       "      <td>1472865386</td>\n",
       "      <td>1</td>\n",
       "      <td>1472865386</td>\n",
       "    </tr>\n",
       "    <tr>\n",
       "      <th>3</th>\n",
       "      <td>Organic Search</td>\n",
       "      <td>20160902</td>\n",
       "      <td>{\"browser\": \"UC Browser\", \"browserVersion\": \"n...</td>\n",
       "      <td>4763447161404445595</td>\n",
       "      <td>{\"continent\": \"Asia\", \"subContinent\": \"Southea...</td>\n",
       "      <td>4763447161404445595_1472881213</td>\n",
       "      <td>Not Socially Engaged</td>\n",
       "      <td>{\"visits\": \"1\", \"hits\": \"1\", \"pageviews\": \"1\",...</td>\n",
       "      <td>{\"campaign\": \"(not set)\", \"source\": \"google\", ...</td>\n",
       "      <td>1472881213</td>\n",
       "      <td>1</td>\n",
       "      <td>1472881213</td>\n",
       "    </tr>\n",
       "    <tr>\n",
       "      <th>4</th>\n",
       "      <td>Organic Search</td>\n",
       "      <td>20160902</td>\n",
       "      <td>{\"browser\": \"Chrome\", \"browserVersion\": \"not a...</td>\n",
       "      <td>27294437909732085</td>\n",
       "      <td>{\"continent\": \"Europe\", \"subContinent\": \"North...</td>\n",
       "      <td>27294437909732085_1472822600</td>\n",
       "      <td>Not Socially Engaged</td>\n",
       "      <td>{\"visits\": \"1\", \"hits\": \"1\", \"pageviews\": \"1\",...</td>\n",
       "      <td>{\"campaign\": \"(not set)\", \"source\": \"google\", ...</td>\n",
       "      <td>1472822600</td>\n",
       "      <td>2</td>\n",
       "      <td>1472822600</td>\n",
       "    </tr>\n",
       "  </tbody>\n",
       "</table>\n",
       "</div>"
      ],
      "text/plain": [
       "  channelGrouping      date  \\\n",
       "0  Organic Search  20160902   \n",
       "1  Organic Search  20160902   \n",
       "2  Organic Search  20160902   \n",
       "3  Organic Search  20160902   \n",
       "4  Organic Search  20160902   \n",
       "\n",
       "                                              device        fullVisitorId  \\\n",
       "0  {\"browser\": \"Chrome\", \"browserVersion\": \"not a...  1131660440785968503   \n",
       "1  {\"browser\": \"Firefox\", \"browserVersion\": \"not ...   377306020877927890   \n",
       "2  {\"browser\": \"Chrome\", \"browserVersion\": \"not a...  3895546263509774583   \n",
       "3  {\"browser\": \"UC Browser\", \"browserVersion\": \"n...  4763447161404445595   \n",
       "4  {\"browser\": \"Chrome\", \"browserVersion\": \"not a...    27294437909732085   \n",
       "\n",
       "                                          geoNetwork  \\\n",
       "0  {\"continent\": \"Asia\", \"subContinent\": \"Western...   \n",
       "1  {\"continent\": \"Oceania\", \"subContinent\": \"Aust...   \n",
       "2  {\"continent\": \"Europe\", \"subContinent\": \"South...   \n",
       "3  {\"continent\": \"Asia\", \"subContinent\": \"Southea...   \n",
       "4  {\"continent\": \"Europe\", \"subContinent\": \"North...   \n",
       "\n",
       "                        sessionId  socialEngagementType  \\\n",
       "0  1131660440785968503_1472830385  Not Socially Engaged   \n",
       "1   377306020877927890_1472880147  Not Socially Engaged   \n",
       "2  3895546263509774583_1472865386  Not Socially Engaged   \n",
       "3  4763447161404445595_1472881213  Not Socially Engaged   \n",
       "4    27294437909732085_1472822600  Not Socially Engaged   \n",
       "\n",
       "                                              totals  \\\n",
       "0  {\"visits\": \"1\", \"hits\": \"1\", \"pageviews\": \"1\",...   \n",
       "1  {\"visits\": \"1\", \"hits\": \"1\", \"pageviews\": \"1\",...   \n",
       "2  {\"visits\": \"1\", \"hits\": \"1\", \"pageviews\": \"1\",...   \n",
       "3  {\"visits\": \"1\", \"hits\": \"1\", \"pageviews\": \"1\",...   \n",
       "4  {\"visits\": \"1\", \"hits\": \"1\", \"pageviews\": \"1\",...   \n",
       "\n",
       "                                       trafficSource     visitId  visitNumber  \\\n",
       "0  {\"campaign\": \"(not set)\", \"source\": \"google\", ...  1472830385            1   \n",
       "1  {\"campaign\": \"(not set)\", \"source\": \"google\", ...  1472880147            1   \n",
       "2  {\"campaign\": \"(not set)\", \"source\": \"google\", ...  1472865386            1   \n",
       "3  {\"campaign\": \"(not set)\", \"source\": \"google\", ...  1472881213            1   \n",
       "4  {\"campaign\": \"(not set)\", \"source\": \"google\", ...  1472822600            2   \n",
       "\n",
       "   visitStartTime  \n",
       "0      1472830385  \n",
       "1      1472880147  \n",
       "2      1472865386  \n",
       "3      1472881213  \n",
       "4      1472822600  "
      ]
     },
     "execution_count": 4,
     "metadata": {},
     "output_type": "execute_result"
    }
   ],
   "source": [
    "train.head()"
   ]
  },
  {
   "cell_type": "code",
   "execution_count": 6,
   "metadata": {},
   "outputs": [
    {
     "data": {
      "text/html": [
       "<div>\n",
       "<style scoped>\n",
       "    .dataframe tbody tr th:only-of-type {\n",
       "        vertical-align: middle;\n",
       "    }\n",
       "\n",
       "    .dataframe tbody tr th {\n",
       "        vertical-align: top;\n",
       "    }\n",
       "\n",
       "    .dataframe thead th {\n",
       "        text-align: right;\n",
       "    }\n",
       "</style>\n",
       "<table border=\"1\" class=\"dataframe\">\n",
       "  <thead>\n",
       "    <tr style=\"text-align: right;\">\n",
       "      <th></th>\n",
       "      <th>channelGrouping</th>\n",
       "      <th>date</th>\n",
       "      <th>device</th>\n",
       "      <th>fullVisitorId</th>\n",
       "      <th>geoNetwork</th>\n",
       "      <th>sessionId</th>\n",
       "      <th>socialEngagementType</th>\n",
       "      <th>totals</th>\n",
       "      <th>trafficSource</th>\n",
       "      <th>visitId</th>\n",
       "      <th>visitNumber</th>\n",
       "      <th>visitStartTime</th>\n",
       "    </tr>\n",
       "  </thead>\n",
       "  <tbody>\n",
       "    <tr>\n",
       "      <th>903648</th>\n",
       "      <td>Social</td>\n",
       "      <td>20170104</td>\n",
       "      <td>{\"browser\": \"Chrome\", \"browserVersion\": \"not a...</td>\n",
       "      <td>5123779100307500332</td>\n",
       "      <td>{\"continent\": \"Americas\", \"subContinent\": \"Car...</td>\n",
       "      <td>5123779100307500332_1483554750</td>\n",
       "      <td>Not Socially Engaged</td>\n",
       "      <td>{\"visits\": \"1\", \"hits\": \"17\", \"pageviews\": \"15...</td>\n",
       "      <td>{\"referralPath\": \"/yt/about/\", \"campaign\": \"(n...</td>\n",
       "      <td>1483554750</td>\n",
       "      <td>1</td>\n",
       "      <td>1483554750</td>\n",
       "    </tr>\n",
       "    <tr>\n",
       "      <th>903649</th>\n",
       "      <td>Social</td>\n",
       "      <td>20170104</td>\n",
       "      <td>{\"browser\": \"Chrome\", \"browserVersion\": \"not a...</td>\n",
       "      <td>7231728964973959842</td>\n",
       "      <td>{\"continent\": \"Asia\", \"subContinent\": \"Souther...</td>\n",
       "      <td>7231728964973959842_1483543798</td>\n",
       "      <td>Not Socially Engaged</td>\n",
       "      <td>{\"visits\": \"1\", \"hits\": \"18\", \"pageviews\": \"13...</td>\n",
       "      <td>{\"referralPath\": \"/yt/about/\", \"campaign\": \"(n...</td>\n",
       "      <td>1483543798</td>\n",
       "      <td>1</td>\n",
       "      <td>1483543798</td>\n",
       "    </tr>\n",
       "    <tr>\n",
       "      <th>903650</th>\n",
       "      <td>Social</td>\n",
       "      <td>20170104</td>\n",
       "      <td>{\"browser\": \"Android Webview\", \"browserVersion...</td>\n",
       "      <td>5744576632396406899</td>\n",
       "      <td>{\"continent\": \"Asia\", \"subContinent\": \"Eastern...</td>\n",
       "      <td>5744576632396406899_1483526434</td>\n",
       "      <td>Not Socially Engaged</td>\n",
       "      <td>{\"visits\": \"1\", \"hits\": \"24\", \"pageviews\": \"21...</td>\n",
       "      <td>{\"referralPath\": \"/yt/about/ko/\", \"campaign\": ...</td>\n",
       "      <td>1483526434</td>\n",
       "      <td>1</td>\n",
       "      <td>1483526434</td>\n",
       "    </tr>\n",
       "    <tr>\n",
       "      <th>903651</th>\n",
       "      <td>Social</td>\n",
       "      <td>20170104</td>\n",
       "      <td>{\"browser\": \"Chrome\", \"browserVersion\": \"not a...</td>\n",
       "      <td>2709355455991750775</td>\n",
       "      <td>{\"continent\": \"Asia\", \"subContinent\": \"Southea...</td>\n",
       "      <td>2709355455991750775_1483592857</td>\n",
       "      <td>Not Socially Engaged</td>\n",
       "      <td>{\"visits\": \"1\", \"hits\": \"24\", \"pageviews\": \"22...</td>\n",
       "      <td>{\"referralPath\": \"/l.php\", \"campaign\": \"(not s...</td>\n",
       "      <td>1483592857</td>\n",
       "      <td>1</td>\n",
       "      <td>1483592864</td>\n",
       "    </tr>\n",
       "    <tr>\n",
       "      <th>903652</th>\n",
       "      <td>Social</td>\n",
       "      <td>20170104</td>\n",
       "      <td>{\"browser\": \"Chrome\", \"browserVersion\": \"not a...</td>\n",
       "      <td>814900163617805053</td>\n",
       "      <td>{\"continent\": \"Americas\", \"subContinent\": \"Cen...</td>\n",
       "      <td>0814900163617805053_1483574474</td>\n",
       "      <td>Not Socially Engaged</td>\n",
       "      <td>{\"visits\": \"1\", \"hits\": \"31\", \"pageviews\": \"31...</td>\n",
       "      <td>{\"referralPath\": \"/yt/about/es-419/\", \"campaig...</td>\n",
       "      <td>1483574474</td>\n",
       "      <td>1</td>\n",
       "      <td>1483574474</td>\n",
       "    </tr>\n",
       "  </tbody>\n",
       "</table>\n",
       "</div>"
      ],
      "text/plain": [
       "       channelGrouping      date  \\\n",
       "903648          Social  20170104   \n",
       "903649          Social  20170104   \n",
       "903650          Social  20170104   \n",
       "903651          Social  20170104   \n",
       "903652          Social  20170104   \n",
       "\n",
       "                                                   device  \\\n",
       "903648  {\"browser\": \"Chrome\", \"browserVersion\": \"not a...   \n",
       "903649  {\"browser\": \"Chrome\", \"browserVersion\": \"not a...   \n",
       "903650  {\"browser\": \"Android Webview\", \"browserVersion...   \n",
       "903651  {\"browser\": \"Chrome\", \"browserVersion\": \"not a...   \n",
       "903652  {\"browser\": \"Chrome\", \"browserVersion\": \"not a...   \n",
       "\n",
       "              fullVisitorId  \\\n",
       "903648  5123779100307500332   \n",
       "903649  7231728964973959842   \n",
       "903650  5744576632396406899   \n",
       "903651  2709355455991750775   \n",
       "903652   814900163617805053   \n",
       "\n",
       "                                               geoNetwork  \\\n",
       "903648  {\"continent\": \"Americas\", \"subContinent\": \"Car...   \n",
       "903649  {\"continent\": \"Asia\", \"subContinent\": \"Souther...   \n",
       "903650  {\"continent\": \"Asia\", \"subContinent\": \"Eastern...   \n",
       "903651  {\"continent\": \"Asia\", \"subContinent\": \"Southea...   \n",
       "903652  {\"continent\": \"Americas\", \"subContinent\": \"Cen...   \n",
       "\n",
       "                             sessionId  socialEngagementType  \\\n",
       "903648  5123779100307500332_1483554750  Not Socially Engaged   \n",
       "903649  7231728964973959842_1483543798  Not Socially Engaged   \n",
       "903650  5744576632396406899_1483526434  Not Socially Engaged   \n",
       "903651  2709355455991750775_1483592857  Not Socially Engaged   \n",
       "903652  0814900163617805053_1483574474  Not Socially Engaged   \n",
       "\n",
       "                                                   totals  \\\n",
       "903648  {\"visits\": \"1\", \"hits\": \"17\", \"pageviews\": \"15...   \n",
       "903649  {\"visits\": \"1\", \"hits\": \"18\", \"pageviews\": \"13...   \n",
       "903650  {\"visits\": \"1\", \"hits\": \"24\", \"pageviews\": \"21...   \n",
       "903651  {\"visits\": \"1\", \"hits\": \"24\", \"pageviews\": \"22...   \n",
       "903652  {\"visits\": \"1\", \"hits\": \"31\", \"pageviews\": \"31...   \n",
       "\n",
       "                                            trafficSource     visitId  \\\n",
       "903648  {\"referralPath\": \"/yt/about/\", \"campaign\": \"(n...  1483554750   \n",
       "903649  {\"referralPath\": \"/yt/about/\", \"campaign\": \"(n...  1483543798   \n",
       "903650  {\"referralPath\": \"/yt/about/ko/\", \"campaign\": ...  1483526434   \n",
       "903651  {\"referralPath\": \"/l.php\", \"campaign\": \"(not s...  1483592857   \n",
       "903652  {\"referralPath\": \"/yt/about/es-419/\", \"campaig...  1483574474   \n",
       "\n",
       "        visitNumber  visitStartTime  \n",
       "903648            1      1483554750  \n",
       "903649            1      1483543798  \n",
       "903650            1      1483526434  \n",
       "903651            1      1483592864  \n",
       "903652            1      1483574474  "
      ]
     },
     "execution_count": 6,
     "metadata": {},
     "output_type": "execute_result"
    }
   ],
   "source": [
    "train.tail()\n"
   ]
  },
  {
   "cell_type": "markdown",
   "metadata": {},
   "source": [
    "<h3>Change date and time </h3>"
   ]
  },
  {
   "cell_type": "code",
   "execution_count": 18,
   "metadata": {},
   "outputs": [
    {
     "data": {
      "text/plain": [
       "0   2016-09-02\n",
       "1   2016-09-02\n",
       "Name: date, dtype: datetime64[ns]"
      ]
     },
     "execution_count": 18,
     "metadata": {},
     "output_type": "execute_result"
    }
   ],
   "source": [
    "train['date']=pd.to_datetime(train['date'],format='%Y%m%d')\n",
    "\n",
    "train['date'].head(2)\n"
   ]
  },
  {
   "cell_type": "code",
   "execution_count": 22,
   "metadata": {},
   "outputs": [
    {
     "data": {
      "text/plain": [
       "0   2016-09-02 15:33:05\n",
       "1   2016-09-03 05:22:27\n",
       "Name: visitStartTime, dtype: datetime64[ns]"
      ]
     },
     "execution_count": 22,
     "metadata": {},
     "output_type": "execute_result"
    }
   ],
   "source": [
    "train['visitStartTime']=pd.to_datetime(train['visitStartTime'],unit='s')\n",
    "\n",
    "train['visitStartTime'].head(2)\n"
   ]
  },
  {
   "cell_type": "code",
   "execution_count": 23,
   "metadata": {},
   "outputs": [
    {
     "data": {
      "text/html": [
       "<div>\n",
       "<style scoped>\n",
       "    .dataframe tbody tr th:only-of-type {\n",
       "        vertical-align: middle;\n",
       "    }\n",
       "\n",
       "    .dataframe tbody tr th {\n",
       "        vertical-align: top;\n",
       "    }\n",
       "\n",
       "    .dataframe thead th {\n",
       "        text-align: right;\n",
       "    }\n",
       "</style>\n",
       "<table border=\"1\" class=\"dataframe\">\n",
       "  <thead>\n",
       "    <tr style=\"text-align: right;\">\n",
       "      <th></th>\n",
       "      <th>(Other)</th>\n",
       "      <th>Affiliates</th>\n",
       "      <th>Direct</th>\n",
       "      <th>Display</th>\n",
       "      <th>Organic Search</th>\n",
       "      <th>Paid Search</th>\n",
       "      <th>Referral</th>\n",
       "      <th>Social</th>\n",
       "    </tr>\n",
       "  </thead>\n",
       "  <tbody>\n",
       "    <tr>\n",
       "      <th>0</th>\n",
       "      <td>0</td>\n",
       "      <td>0</td>\n",
       "      <td>0</td>\n",
       "      <td>0</td>\n",
       "      <td>1</td>\n",
       "      <td>0</td>\n",
       "      <td>0</td>\n",
       "      <td>0</td>\n",
       "    </tr>\n",
       "    <tr>\n",
       "      <th>1</th>\n",
       "      <td>0</td>\n",
       "      <td>0</td>\n",
       "      <td>0</td>\n",
       "      <td>0</td>\n",
       "      <td>1</td>\n",
       "      <td>0</td>\n",
       "      <td>0</td>\n",
       "      <td>0</td>\n",
       "    </tr>\n",
       "    <tr>\n",
       "      <th>2</th>\n",
       "      <td>0</td>\n",
       "      <td>0</td>\n",
       "      <td>0</td>\n",
       "      <td>0</td>\n",
       "      <td>1</td>\n",
       "      <td>0</td>\n",
       "      <td>0</td>\n",
       "      <td>0</td>\n",
       "    </tr>\n",
       "    <tr>\n",
       "      <th>3</th>\n",
       "      <td>0</td>\n",
       "      <td>0</td>\n",
       "      <td>0</td>\n",
       "      <td>0</td>\n",
       "      <td>1</td>\n",
       "      <td>0</td>\n",
       "      <td>0</td>\n",
       "      <td>0</td>\n",
       "    </tr>\n",
       "    <tr>\n",
       "      <th>4</th>\n",
       "      <td>0</td>\n",
       "      <td>0</td>\n",
       "      <td>0</td>\n",
       "      <td>0</td>\n",
       "      <td>1</td>\n",
       "      <td>0</td>\n",
       "      <td>0</td>\n",
       "      <td>0</td>\n",
       "    </tr>\n",
       "  </tbody>\n",
       "</table>\n",
       "</div>"
      ],
      "text/plain": [
       "   (Other)  Affiliates  Direct  Display  Organic Search  Paid Search  \\\n",
       "0        0           0       0        0               1            0   \n",
       "1        0           0       0        0               1            0   \n",
       "2        0           0       0        0               1            0   \n",
       "3        0           0       0        0               1            0   \n",
       "4        0           0       0        0               1            0   \n",
       "\n",
       "   Referral  Social  \n",
       "0         0       0  \n",
       "1         0       0  \n",
       "2         0       0  \n",
       "3         0       0  \n",
       "4         0       0  "
      ]
     },
     "execution_count": 23,
     "metadata": {},
     "output_type": "execute_result"
    }
   ],
   "source": [
    "dummy_channel = pd.get_dummies(train['channelGrouping'])\n",
    "#dummy_variable_1 = pd.get_dummies(df[\"fuel-type\"])\n",
    "dummy_channel.head()"
   ]
  },
  {
   "cell_type": "code",
   "execution_count": 8,
   "metadata": {},
   "outputs": [
    {
     "data": {
      "text/plain": [
       "0    1\n",
       "1    1\n",
       "2    1\n",
       "3    1\n",
       "4    2\n",
       "Name: visitNumber, dtype: int64"
      ]
     },
     "execution_count": 8,
     "metadata": {},
     "output_type": "execute_result"
    }
   ],
   "source": [
    "train.visitNumber.head()"
   ]
  },
  {
   "cell_type": "code",
   "execution_count": 5,
   "metadata": {},
   "outputs": [],
   "source": [
    "import matplotlib.pyplot as plt\n",
    "%matplotlib inline\n",
    "import seaborn as sns"
   ]
  },
  {
   "cell_type": "code",
   "execution_count": 6,
   "metadata": {},
   "outputs": [
    {
     "data": {
      "text/plain": [
       "Organic Search    381561\n",
       "Social            226117\n",
       "Direct            143026\n",
       "Referral          104838\n",
       "Paid Search        25326\n",
       "Affiliates         16403\n",
       "Display             6262\n",
       "(Other)              120\n",
       "Name: channelGrouping, dtype: int64"
      ]
     },
     "execution_count": 6,
     "metadata": {},
     "output_type": "execute_result"
    }
   ],
   "source": [
    "summ_st_channel=train['channelGrouping'].value_counts()\n",
    "summ_st_channel"
   ]
  },
  {
   "cell_type": "code",
   "execution_count": 7,
   "metadata": {},
   "outputs": [
    {
     "data": {
      "text/plain": [
       "<matplotlib.axes._subplots.AxesSubplot at 0x9b582dcac8>"
      ]
     },
     "execution_count": 7,
     "metadata": {},
     "output_type": "execute_result"
    },
    {
     "data": {
      "image/png": "[encoded data removed]",
      "text/plain": [
       "<Figure size 576x576 with 1 Axes>"
      ]
     },
     "metadata": {},
     "output_type": "display_data"
    }
   ],
   "source": [
    "summ_st_channel.plot(kind='bar',figsize=(8,8))"
   ]
  },
  {
   "cell_type": "markdown",
   "metadata": {},
   "source": [
    "<h3>statistical summary of each column </h3>"
   ]
  },
  {
   "cell_type": "code",
   "execution_count": 9,
   "metadata": {},
   "outputs": [
    {
     "data": {
      "text/html": [
       "<div>\n",
       "<style scoped>\n",
       "    .dataframe tbody tr th:only-of-type {\n",
       "        vertical-align: middle;\n",
       "    }\n",
       "\n",
       "    .dataframe tbody tr th {\n",
       "        vertical-align: top;\n",
       "    }\n",
       "\n",
       "    .dataframe thead th {\n",
       "        text-align: right;\n",
       "    }\n",
       "</style>\n",
       "<table border=\"1\" class=\"dataframe\">\n",
       "  <thead>\n",
       "    <tr style=\"text-align: right;\">\n",
       "      <th></th>\n",
       "      <th>visitId</th>\n",
       "      <th>visitNumber</th>\n",
       "    </tr>\n",
       "  </thead>\n",
       "  <tbody>\n",
       "    <tr>\n",
       "      <th>count</th>\n",
       "      <td>9.036530e+05</td>\n",
       "      <td>903653.000000</td>\n",
       "    </tr>\n",
       "    <tr>\n",
       "      <th>mean</th>\n",
       "      <td>1.485007e+09</td>\n",
       "      <td>2.264897</td>\n",
       "    </tr>\n",
       "    <tr>\n",
       "      <th>std</th>\n",
       "      <td>9.022124e+06</td>\n",
       "      <td>9.283735</td>\n",
       "    </tr>\n",
       "    <tr>\n",
       "      <th>min</th>\n",
       "      <td>1.470035e+09</td>\n",
       "      <td>1.000000</td>\n",
       "    </tr>\n",
       "    <tr>\n",
       "      <th>25%</th>\n",
       "      <td>1.477561e+09</td>\n",
       "      <td>1.000000</td>\n",
       "    </tr>\n",
       "    <tr>\n",
       "      <th>50%</th>\n",
       "      <td>1.483949e+09</td>\n",
       "      <td>1.000000</td>\n",
       "    </tr>\n",
       "    <tr>\n",
       "      <th>75%</th>\n",
       "      <td>1.492759e+09</td>\n",
       "      <td>1.000000</td>\n",
       "    </tr>\n",
       "    <tr>\n",
       "      <th>max</th>\n",
       "      <td>1.501657e+09</td>\n",
       "      <td>395.000000</td>\n",
       "    </tr>\n",
       "  </tbody>\n",
       "</table>\n",
       "</div>"
      ],
      "text/plain": [
       "            visitId    visitNumber\n",
       "count  9.036530e+05  903653.000000\n",
       "mean   1.485007e+09       2.264897\n",
       "std    9.022124e+06       9.283735\n",
       "min    1.470035e+09       1.000000\n",
       "25%    1.477561e+09       1.000000\n",
       "50%    1.483949e+09       1.000000\n",
       "75%    1.492759e+09       1.000000\n",
       "max    1.501657e+09     395.000000"
      ]
     },
     "execution_count": 9,
     "metadata": {},
     "output_type": "execute_result"
    }
   ],
   "source": [
    "#Describe\n",
    "#This shows the statistical summary of all numeric-typed (int, float)\n",
    "train.describe()\n"
   ]
  },
  {
   "cell_type": "code",
   "execution_count": 8,
   "metadata": {},
   "outputs": [
    {
     "data": {
      "text/plain": [
       "0         [{\"browser\": \"Chrome\", \"browserVersion\": \"not ...\n",
       "1         [{\"browser\": \"Firefox\", \"browserVersion\": \"not...\n",
       "2         [{\"browser\": \"Chrome\", \"browserVersion\": \"not ...\n",
       "3         [{\"browser\": \"UC Browser\", \"browserVersion\": \"...\n",
       "4         [{\"browser\": \"Chrome\", \"browserVersion\": \"not ...\n",
       "5         [{\"browser\": \"Chrome\", \"browserVersion\": \"not ...\n",
       "6         [{\"browser\": \"Chrome\", \"browserVersion\": \"not ...\n",
       "7         [{\"browser\": \"Chrome\", \"browserVersion\": \"not ...\n",
       "8         [{\"browser\": \"Internet Explorer\", \"browserVers...\n",
       "9         [{\"browser\": \"Firefox\", \"browserVersion\": \"not...\n",
       "10        [{\"browser\": \"Chrome\", \"browserVersion\": \"not ...\n",
       "11        [{\"browser\": \"Safari\", \"browserVersion\": \"not ...\n",
       "12        [{\"browser\": \"Safari\", \"browserVersion\": \"not ...\n",
       "13        [{\"browser\": \"Safari\", \"browserVersion\": \"not ...\n",
       "14        [{\"browser\": \"Chrome\", \"browserVersion\": \"not ...\n",
       "15        [{\"browser\": \"Chrome\", \"browserVersion\": \"not ...\n",
       "16        [{\"browser\": \"Chrome\", \"browserVersion\": \"not ...\n",
       "17        [{\"browser\": \"Internet Explorer\", \"browserVers...\n",
       "18        [{\"browser\": \"Chrome\", \"browserVersion\": \"not ...\n",
       "19        [{\"browser\": \"Chrome\", \"browserVersion\": \"not ...\n",
       "20        [{\"browser\": \"Chrome\", \"browserVersion\": \"not ...\n",
       "21        [{\"browser\": \"Chrome\", \"browserVersion\": \"not ...\n",
       "22        [{\"browser\": \"Safari\", \"browserVersion\": \"not ...\n",
       "23        [{\"browser\": \"Chrome\", \"browserVersion\": \"not ...\n",
       "24        [{\"browser\": \"Chrome\", \"browserVersion\": \"not ...\n",
       "25        [{\"browser\": \"Internet Explorer\", \"browserVers...\n",
       "26        [{\"browser\": \"Firefox\", \"browserVersion\": \"not...\n",
       "27        [{\"browser\": \"Safari\", \"browserVersion\": \"not ...\n",
       "28        [{\"browser\": \"Chrome\", \"browserVersion\": \"not ...\n",
       "29        [{\"browser\": \"Chrome\", \"browserVersion\": \"not ...\n",
       "                                ...                        \n",
       "903623    [{\"browser\": \"Chrome\", \"browserVersion\": \"not ...\n",
       "903624    [{\"browser\": \"Chrome\", \"browserVersion\": \"not ...\n",
       "903625    [{\"browser\": \"Firefox\", \"browserVersion\": \"not...\n",
       "903626    [{\"browser\": \"Chrome\", \"browserVersion\": \"not ...\n",
       "903627    [{\"browser\": \"Safari\", \"browserVersion\": \"not ...\n",
       "903628    [{\"browser\": \"Chrome\", \"browserVersion\": \"not ...\n",
       "903629    [{\"browser\": \"Chrome\", \"browserVersion\": \"not ...\n",
       "903630    [{\"browser\": \"Chrome\", \"browserVersion\": \"not ...\n",
       "903631    [{\"browser\": \"Chrome\", \"browserVersion\": \"not ...\n",
       "903632    [{\"browser\": \"Opera Mini\", \"browserVersion\": \"...\n",
       "903633    [{\"browser\": \"Chrome\", \"browserVersion\": \"not ...\n",
       "903634    [{\"browser\": \"Chrome\", \"browserVersion\": \"not ...\n",
       "903635    [{\"browser\": \"Chrome\", \"browserVersion\": \"not ...\n",
       "903636    [{\"browser\": \"Chrome\", \"browserVersion\": \"not ...\n",
       "903637    [{\"browser\": \"Chrome\", \"browserVersion\": \"not ...\n",
       "903638    [{\"browser\": \"Chrome\", \"browserVersion\": \"not ...\n",
       "903639    [{\"browser\": \"Chrome\", \"browserVersion\": \"not ...\n",
       "903640    [{\"browser\": \"Safari\", \"browserVersion\": \"not ...\n",
       "903641    [{\"browser\": \"Chrome\", \"browserVersion\": \"not ...\n",
       "903642    [{\"browser\": \"Internet Explorer\", \"browserVers...\n",
       "903643    [{\"browser\": \"Chrome\", \"browserVersion\": \"not ...\n",
       "903644    [{\"browser\": \"Chrome\", \"browserVersion\": \"not ...\n",
       "903645    [{\"browser\": \"Safari (in-app)\", \"browserVersio...\n",
       "903646    [{\"browser\": \"Chrome\", \"browserVersion\": \"not ...\n",
       "903647    [{\"browser\": \"Chrome\", \"browserVersion\": \"not ...\n",
       "903648    [{\"browser\": \"Chrome\", \"browserVersion\": \"not ...\n",
       "903649    [{\"browser\": \"Chrome\", \"browserVersion\": \"not ...\n",
       "903650    [{\"browser\": \"Android Webview\", \"browserVersio...\n",
       "903651    [{\"browser\": \"Chrome\", \"browserVersion\": \"not ...\n",
       "903652    [{\"browser\": \"Chrome\", \"browserVersion\": \"not ...\n",
       "Name: device, Length: 903653, dtype: object"
      ]
     },
     "execution_count": 8,
     "metadata": {},
     "output_type": "execute_result"
    }
   ],
   "source": [
    "train['device'].str.split(';')"
   ]
  },
  {
   "cell_type": "code",
   "execution_count": null,
   "metadata": {},
   "outputs": [],
   "source": []
  }
 ],
 "metadata": {
  "kernelspec": {
   "display_name": "Python 3",
   "language": "python",
   "name": "python3"
  },
  "language_info": {
   "codemirror_mode": {
    "name": "ipython",
    "version": 3
   },
   "file_extension": ".py",
   "mimetype": "text/x-python",
   "name": "python",
   "nbconvert_exporter": "python",
   "pygments_lexer": "ipython3",
   "version": "3.6.5"
  }
 },
 "nbformat": 4,
 "nbformat_minor": 2
}
